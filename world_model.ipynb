{
  "nbformat": 4,
  "nbformat_minor": 0,
  "metadata": {
    "colab": {
      "name": "world_model.ipynb",
      "version": "0.3.2",
      "provenance": [],
      "collapsed_sections": [],
      "include_colab_link": true
    },
    "kernelspec": {
      "name": "python3",
      "display_name": "Python 3"
    },
    "accelerator": "GPU"
  },
  "cells": [
    {
      "cell_type": "markdown",
      "metadata": {
        "id": "view-in-github",
        "colab_type": "text"
      },
      "source": [
        "[View in Colaboratory](https://colab.research.google.com/github/Da-Capo/Colabstuffs/blob/master/world_model.ipynb)"
      ]
    },
    {
      "metadata": {
        "id": "zaSmlsMATNHy",
        "colab_type": "text"
      },
      "cell_type": "markdown",
      "source": [
        "# GITCODE EXAMPLE"
      ]
    },
    {
      "metadata": {
        "id": "9b-dKXrYyDC0",
        "colab_type": "text"
      },
      "cell_type": "markdown",
      "source": [
        "## create env"
      ]
    },
    {
      "metadata": {
        "id": "x50nPSlETTKU",
        "colab_type": "code",
        "colab": {}
      },
      "cell_type": "code",
      "source": [
        "!ls drive\n",
        "import os\n",
        "os.chdir(\"/content/dirve\")\n",
        "!git clone https://github.com/AppliedDataSciencePartners/WorldModels.git"
      ],
      "execution_count": 0,
      "outputs": []
    },
    {
      "metadata": {
        "id": "xlmj2qpwVh8V",
        "colab_type": "code",
        "colab": {
          "base_uri": "https://localhost:8080/",
          "height": 34
        },
        "outputId": "7a396b83-4ecb-4d5b-e45d-fa5d70159e89"
      },
      "cell_type": "code",
      "source": [
        "!apt-get install cmake swig python3-dev zlib1g-dev python-opengl mpich xvfb xserver-xephyr vnc4server 2>&1 > /dev/null"
      ],
      "execution_count": 11,
      "outputs": [
        {
          "output_type": "stream",
          "text": [
            "Extracting templates from packages: 100%\n"
          ],
          "name": "stdout"
        }
      ]
    },
    {
      "metadata": {
        "id": "UgBThMAeXLDh",
        "colab_type": "code",
        "colab": {
          "base_uri": "https://localhost:8080/",
          "height": 34
        },
        "outputId": "33e5357d-9694-4ce7-cba8-109f09fe19ac"
      },
      "cell_type": "code",
      "source": [
        "!pip install -r WorldModels/requirements.txt 2>&1 > /dev/null"
      ],
      "execution_count": 12,
      "outputs": [
        {
          "output_type": "stream",
          "text": [
            "\u001b[31mCould not open requirements file: [Errno 2] No such file or directory: 'WorldModels/requirements.txt'\u001b[0m\r\n"
          ],
          "name": "stdout"
        }
      ]
    },
    {
      "metadata": {
        "id": "hcfnWNJ81R8E",
        "colab_type": "code",
        "colab": {
          "base_uri": "https://localhost:8080/",
          "height": 17
        },
        "outputId": "bd9de843-eefd-463c-e8da-499aee178a9d"
      },
      "cell_type": "code",
      "source": [
        "!pip install Box2D box2d-kengz gym 2>&1 > /dev/null"
      ],
      "execution_count": 13,
      "outputs": []
    },
    {
      "metadata": {
        "id": "Z-8Cjta_LRZm",
        "colab_type": "code",
        "colab": {
          "base_uri": "https://localhost:8080/",
          "height": 34
        },
        "outputId": "f4351c06-44e2-4969-b0b0-3839e41087b3"
      },
      "cell_type": "code",
      "source": [
        "import os\n",
        "os.chdir(\"/content/WorldModels\")\n",
        "!ls custom_envs/"
      ],
      "execution_count": 3,
      "outputs": [
        {
          "output_type": "stream",
          "text": [
            "car_racing.py  car_racing.pyc  __init__.py  __init__.pyc  __pycache__\r\n"
          ],
          "name": "stdout"
        }
      ]
    },
    {
      "metadata": {
        "id": "KIQJDR0NBjb0",
        "colab_type": "code",
        "colab": {}
      },
      "cell_type": "code",
      "source": [
        "!df -h\n",
        "for d in os.listdir('.'):\n",
        "    if os.path.isdir(d) and d[0]!=\".\":\n",
        "        open(d+'/__init__.py', 'a').close()\n"
      ],
      "execution_count": 0,
      "outputs": []
    },
    {
      "metadata": {
        "id": "XcBqP0QAyIWJ",
        "colab_type": "text"
      },
      "cell_type": "markdown",
      "source": [
        "## pipline"
      ]
    },
    {
      "metadata": {
        "id": "lKtX8-iZYEbM",
        "colab_type": "code",
        "colab": {}
      },
      "cell_type": "code",
      "source": [
        "\n",
        "# !python 01_generate_data.py car_racing --total_episodes 2000 --start_batch 0 --time_steps 300\n",
        "!xvfb-run -a -s \"-screen 0 1400x900x24\" python 01_generate_data.py car_racing --total_episodes 2000 --start_batch 0 --time_steps 300"
      ],
      "execution_count": 0,
      "outputs": []
    },
    {
      "metadata": {
        "id": "egJ4oB7JtTRW",
        "colab_type": "code",
        "colab": {
          "base_uri": "https://localhost:8080/",
          "height": 377
        },
        "outputId": "7713442c-78cb-4801-b95b-f92b1aadbbf2"
      },
      "cell_type": "code",
      "source": [
        "!python 02_train_vae.py --start_batch 9 --max_batch 9 #--new_model"
      ],
      "execution_count": 4,
      "outputs": [
        {
          "output_type": "stream",
          "text": [
            "/usr/local/lib/python3.6/dist-packages/h5py/__init__.py:36: FutureWarning: Conversion of the second argument of issubdtype from `float` to `np.floating` is deprecated. In future, it will be treated as `np.float64 == np.dtype(float).type`.\r\n",
            "  from ._conv import register_converters as _register_converters\n",
            "Using TensorFlow backend.\n",
            "2018-06-20 07:01:14.496386: I tensorflow/stream_executor/cuda/cuda_gpu_executor.cc:897] successful NUMA node read from SysFS had negative value (-1), but there must be at least one NUMA node, so returning NUMA node zero\n",
            "2018-06-20 07:01:14.496849: I tensorflow/core/common_runtime/gpu/gpu_device.cc:1392] Found device 0 with properties: \n",
            "name: Tesla K80 major: 3 minor: 7 memoryClockRate(GHz): 0.8235\n",
            "pciBusID: 0000:00:04.0\n",
            "totalMemory: 11.17GiB freeMemory: 11.10GiB\n",
            "2018-06-20 07:01:14.496901: I tensorflow/core/common_runtime/gpu/gpu_device.cc:1471] Adding visible gpu devices: 0\n",
            "2018-06-20 07:01:14.868360: I tensorflow/core/common_runtime/gpu/gpu_device.cc:952] Device interconnect StreamExecutor with strength 1 edge matrix:\n",
            "2018-06-20 07:01:14.868409: I tensorflow/core/common_runtime/gpu/gpu_device.cc:958]      0 \n",
            "2018-06-20 07:01:14.868432: I tensorflow/core/common_runtime/gpu/gpu_device.cc:971] 0:   N \n",
            "2018-06-20 07:01:14.868738: I tensorflow/core/common_runtime/gpu/gpu_device.cc:1084] Created TensorFlow device (/job:localhost/replica:0/task:0/device:GPU:0 with 10765 MB memory) -> physical GPU (device: 0, name: Tesla K80, pci bus id: 0000:00:04.0, compute capability: 3.7)\n",
            "Building batch 9...\n",
            "tcmalloc: large alloc 2949120000 bytes == 0x7f7a4d9b4000 @  0x7f7b7601e107 0x7f7b73e37a41 0x7f7b73e9faa1 0x7f7b73ea055b 0x7f7b73f362da 0x4c4b0b 0x54f3c4 0x551ee0 0x54efc1 0x54f24d 0x551ee0 0x54efc1 0x54f24d 0x553aaf 0x54e4c8 0x54f4f6 0x553aaf 0x54efc1 0x54ff73 0x42b3c9 0x42b5b5 0x44182b 0x421f64 0x7f7b74e671c1 0x42201a (nil)\n",
            "Found car_racing...current data size = 200 episodes\n",
            "tcmalloc: large alloc 2949120000 bytes == 0x7f799d874000 @  0x7f7b7601e107 0x7f7b73e37a41 0x7f7b73e9abb3 0x7f7b73e9e064 0x7f7b73e9e5a5 0x7f7b73f35191 0x4c4b0b 0x54f3c4 0x553aaf 0x54e4c8 0x54f4f6 0x553aaf 0x54efc1 0x54ff73 0x42b3c9 0x42b5b5 0x44182b 0x421f64 0x7f7b74e671c1 0x42201a (nil)\n",
            "Train on 48000 samples, validate on 12000 samples\n",
            "Epoch 1/1\n",
            " 3200/48000 [=>............................] - ETA: 49s - loss: 130.0049 - vae_r_loss: 0.1162 - vae_kl_loss: 129.8887"
          ],
          "name": "stdout"
        },
        {
          "output_type": "stream",
          "text": [
            "48000/48000 [==============================] - 40s 830us/step - loss: 8.8970 - vae_r_loss: 0.0983 - vae_kl_loss: 8.7986 - val_loss: 0.1349 - val_vae_r_loss: 0.0894 - val_vae_kl_loss: 0.0455\n"
          ],
          "name": "stdout"
        }
      ]
    },
    {
      "metadata": {
        "id": "OHOGrHGWtUEf",
        "colab_type": "code",
        "colab": {
          "base_uri": "https://localhost:8080/",
          "height": 309
        },
        "outputId": "f92da415-17c7-4307-c29b-8790d36047ea"
      },
      "cell_type": "code",
      "source": [
        "!python 03_generate_rnn_data.py --start_batch 9 --max_batch 9"
      ],
      "execution_count": 5,
      "outputs": [
        {
          "output_type": "stream",
          "text": [
            "/usr/local/lib/python3.6/dist-packages/h5py/__init__.py:36: FutureWarning: Conversion of the second argument of issubdtype from `float` to `np.floating` is deprecated. In future, it will be treated as `np.float64 == np.dtype(float).type`.\r\n",
            "  from ._conv import register_converters as _register_converters\n",
            "Using TensorFlow backend.\n",
            "2018-06-20 07:03:14.462062: I tensorflow/stream_executor/cuda/cuda_gpu_executor.cc:897] successful NUMA node read from SysFS had negative value (-1), but there must be at least one NUMA node, so returning NUMA node zero\n",
            "2018-06-20 07:03:14.462740: I tensorflow/core/common_runtime/gpu/gpu_device.cc:1392] Found device 0 with properties: \n",
            "name: Tesla K80 major: 3 minor: 7 memoryClockRate(GHz): 0.8235\n",
            "pciBusID: 0000:00:04.0\n",
            "totalMemory: 11.17GiB freeMemory: 11.10GiB\n",
            "2018-06-20 07:03:14.462825: I tensorflow/core/common_runtime/gpu/gpu_device.cc:1471] Adding visible gpu devices: 0\n",
            "2018-06-20 07:03:14.935132: I tensorflow/core/common_runtime/gpu/gpu_device.cc:952] Device interconnect StreamExecutor with strength 1 edge matrix:\n",
            "2018-06-20 07:03:14.935186: I tensorflow/core/common_runtime/gpu/gpu_device.cc:958]      0 \n",
            "2018-06-20 07:03:14.935220: I tensorflow/core/common_runtime/gpu/gpu_device.cc:971] 0:   N \n",
            "2018-06-20 07:03:14.935569: I tensorflow/core/common_runtime/gpu/gpu_device.cc:1084] Created TensorFlow device (/job:localhost/replica:0/task:0/device:GPU:0 with 10765 MB memory) -> physical GPU (device: 0, name: Tesla K80, pci bus id: 0000:00:04.0, compute capability: 3.7)\n",
            "Generating batch 9...\n",
            "tcmalloc: large alloc 2949120000 bytes == 0x7fb51f61a000 @  0x7fb6479e2107 0x7fb6457fba41 0x7fb645863aa1 0x7fb64586455b 0x7fb6458fa2da 0x4c4b0b 0x54f3c4 0x551ee0 0x54efc1 0x54f24d 0x551ee0 0x54efc1 0x54f24d 0x553aaf 0x54e4c8 0x54f4f6 0x553aaf 0x54efc1 0x54ff73 0x42b3c9 0x42b5b5 0x44182b 0x421f64 0x7fb64682b1c1 0x42201a (nil)\n",
            "Found car_racing...current data size = 200 episodes\n"
          ],
          "name": "stdout"
        }
      ]
    },
    {
      "metadata": {
        "id": "VadCLhP_tX4x",
        "colab_type": "code",
        "colab": {
          "base_uri": "https://localhost:8080/",
          "height": 768
        },
        "outputId": "5f87e527-b017-448c-b034-3f962fedb1b2"
      },
      "cell_type": "code",
      "source": [
        "!python 04_train_rnn.py --start_batch 0 --max_batch 9 --new_model"
      ],
      "execution_count": 6,
      "outputs": [
        {
          "output_type": "stream",
          "text": [
            "/usr/local/lib/python3.6/dist-packages/h5py/__init__.py:36: FutureWarning: Conversion of the second argument of issubdtype from `float` to `np.floating` is deprecated. In future, it will be treated as `np.float64 == np.dtype(float).type`.\r\n",
            "  from ._conv import register_converters as _register_converters\n",
            "Using TensorFlow backend.\n",
            "Building batch 0...\n",
            "Building batch 1...\n",
            "Building batch 2...\n",
            "Building batch 3...\n",
            "Building batch 4...\n",
            "Building batch 5...\n",
            "Building batch 6...\n",
            "Building batch 7...\n",
            "Building batch 8...\n",
            "Building batch 9...\n",
            "Train on 1600 samples, validate on 400 samples\n",
            "Epoch 1/20\n",
            "2018-06-20 07:03:54.608116: I tensorflow/stream_executor/cuda/cuda_gpu_executor.cc:897] successful NUMA node read from SysFS had negative value (-1), but there must be at least one NUMA node, so returning NUMA node zero\n",
            "2018-06-20 07:03:54.608622: I tensorflow/core/common_runtime/gpu/gpu_device.cc:1392] Found device 0 with properties: \n",
            "name: Tesla K80 major: 3 minor: 7 memoryClockRate(GHz): 0.8235\n",
            "pciBusID: 0000:00:04.0\n",
            "totalMemory: 11.17GiB freeMemory: 11.10GiB\n",
            "2018-06-20 07:03:54.608664: I tensorflow/core/common_runtime/gpu/gpu_device.cc:1471] Adding visible gpu devices: 0\n",
            "2018-06-20 07:03:54.906311: I tensorflow/core/common_runtime/gpu/gpu_device.cc:952] Device interconnect StreamExecutor with strength 1 edge matrix:\n",
            "2018-06-20 07:03:54.906399: I tensorflow/core/common_runtime/gpu/gpu_device.cc:958]      0 \n",
            "2018-06-20 07:03:54.906472: I tensorflow/core/common_runtime/gpu/gpu_device.cc:971] 0:   N \n",
            "2018-06-20 07:03:54.906968: I tensorflow/core/common_runtime/gpu/gpu_device.cc:1084] Created TensorFlow device (/job:localhost/replica:0/task:0/device:GPU:0 with 10765 MB memory) -> physical GPU (device: 0, name: Tesla K80, pci bus id: 0000:00:04.0, compute capability: 3.7)\n",
            "1536/1600 [===========================>..] - ETA: 2s - loss: 1.4014 - rnn_r_loss: 1.4014 - rnn_kl_loss: 0.0203"
          ],
          "name": "stdout"
        },
        {
          "output_type": "stream",
          "text": [
            "1600/1600 [==============================] - 54s 34ms/step - loss: 1.4013 - rnn_r_loss: 1.4013 - rnn_kl_loss: 0.0202 - val_loss: 1.3826 - val_rnn_r_loss: 1.3826 - val_rnn_kl_loss: 0.0178\n",
            "Epoch 2/20\n",
            "1600/1600 [==============================] - 53s 33ms/step - loss: 1.3964 - rnn_r_loss: 1.3964 - rnn_kl_loss: 0.0196 - val_loss: 1.3811 - val_rnn_r_loss: 1.3811 - val_rnn_kl_loss: 0.0199\n",
            "Epoch 3/20\n",
            "1600/1600 [==============================] - 52s 32ms/step - loss: 1.3951 - rnn_r_loss: 1.3951 - rnn_kl_loss: 0.0205 - val_loss: 1.3813 - val_rnn_r_loss: 1.3813 - val_rnn_kl_loss: 0.0214\n",
            "Epoch 4/20\n",
            "1600/1600 [==============================] - 52s 33ms/step - loss: 1.3944 - rnn_r_loss: 1.3944 - rnn_kl_loss: 0.0220 - val_loss: 1.3805 - val_rnn_r_loss: 1.3805 - val_rnn_kl_loss: 0.0211\n",
            "Epoch 5/20\n",
            " 800/1600 [==============>...............] - ETA: 24s - loss: 1.3936 - rnn_r_loss: 1.3936 - rnn_kl_loss: 0.0228"
          ],
          "name": "stdout"
        },
        {
          "output_type": "stream",
          "text": [
            "1600/1600 [==============================] - 53s 33ms/step - loss: 1.3939 - rnn_r_loss: 1.3939 - rnn_kl_loss: 0.0228 - val_loss: 1.3827 - val_rnn_r_loss: 1.3827 - val_rnn_kl_loss: 0.0233\n",
            "Epoch 6/20\n",
            "1600/1600 [==============================] - 52s 32ms/step - loss: 1.3938 - rnn_r_loss: 1.3938 - rnn_kl_loss: 0.0233 - val_loss: 1.3811 - val_rnn_r_loss: 1.3811 - val_rnn_kl_loss: 0.0237\n",
            "Epoch 7/20\n",
            "1600/1600 [==============================] - 52s 32ms/step - loss: 1.3933 - rnn_r_loss: 1.3933 - rnn_kl_loss: 0.0241 - val_loss: 1.3812 - val_rnn_r_loss: 1.3812 - val_rnn_kl_loss: 0.0245\n",
            "Epoch 8/20\n",
            "1600/1600 [==============================] - 64s 40ms/step - loss: 1.3932 - rnn_r_loss: 1.3932 - rnn_kl_loss: 0.0248 - val_loss: 1.3808 - val_rnn_r_loss: 1.3808 - val_rnn_kl_loss: 0.0254\n",
            "Epoch 9/20\n",
            " 704/1600 [============>.................] - ETA: 47s - loss: 1.3936 - rnn_r_loss: 1.3936 - rnn_kl_loss: 0.0252"
          ],
          "name": "stdout"
        },
        {
          "output_type": "stream",
          "text": [
            "1600/1600 [==============================] - 60s 38ms/step - loss: 1.3931 - rnn_r_loss: 1.3931 - rnn_kl_loss: 0.0257 - val_loss: 1.3804 - val_rnn_r_loss: 1.3804 - val_rnn_kl_loss: 0.0264\n",
            "Epoch 00009: early stopping\n"
          ],
          "name": "stdout"
        }
      ]
    },
    {
      "metadata": {
        "id": "crMYQx9mWb57",
        "colab_type": "code",
        "colab": {
          "base_uri": "https://localhost:8080/",
          "height": 51
        },
        "outputId": "6559fcfa-96f4-429e-b1d4-96b9a616b22b"
      },
      "cell_type": "code",
      "source": [
        "!pip install mpi4py pympler"
      ],
      "execution_count": 9,
      "outputs": [
        {
          "output_type": "stream",
          "text": [
            "Requirement already satisfied: mpi4py in /usr/local/lib/python3.6/dist-packages (3.0.0)\r\n",
            "Requirement already satisfied: pympler in /usr/local/lib/python3.6/dist-packages (0.5)\r\n"
          ],
          "name": "stdout"
        }
      ]
    },
    {
      "metadata": {
        "id": "fy4jJeaztj_r",
        "colab_type": "code",
        "colab": {
          "base_uri": "https://localhost:8080/",
          "height": 9795
        },
        "outputId": "69cbcdb4-f679-4c12-ccb7-4eada8940e1c"
      },
      "cell_type": "code",
      "source": [
        "!python 05_train_controller.py car_racing --num_worker 16 --num_worker_trial 4 --num_episode 16 --max_length 1000 --eval_steps 25"
      ],
      "execution_count": 10,
      "outputs": [
        {
          "output_type": "stream",
          "text": [
            "/usr/local/lib/python3.6/dist-packages/h5py/__init__.py:36: FutureWarning: Conversion of the second argument of issubdtype from `float` to `np.floating` is deprecated. In future, it will be treated as `np.float64 == np.dtype(float).type`.\r\n",
            "  from ._conv import register_converters as _register_converters\n",
            "Using TensorFlow backend.\n",
            "['mpirun', '-np', '17', '/usr/bin/python3', '05_train_controller.py', 'car_racing', '--num_worker', '16', '--num_worker_trial', '4', '--num_episode', '16', '--max_length', '1000', '--eval_steps', '25']\n",
            "/usr/local/lib/python3.6/dist-packages/h5py/__init__.py:36: FutureWarning: Conversion of the second argument of issubdtype from `float` to `np.floating` is deprecated. In future, it will be treated as `np.float64 == np.dtype(float).type`.\n",
            "  from ._conv import register_converters as _register_converters\n",
            "/usr/local/lib/python3.6/dist-packages/h5py/__init__.py:36: FutureWarning: Conversion of the second argument of issubdtype from `float` to `np.floating` is deprecated. In future, it will be treated as `np.float64 == np.dtype(float).type`.\n",
            "  from ._conv import register_converters as _register_converters\n",
            "/usr/local/lib/python3.6/dist-packages/h5py/__init__.py:36: FutureWarning: Conversion of the second argument of issubdtype from `float` to `np.floating` is deprecated. In future, it will be treated as `np.float64 == np.dtype(float).type`.\n",
            "  from ._conv import register_converters as _register_converters\n",
            "/usr/local/lib/python3.6/dist-packages/h5py/__init__.py:36: FutureWarning: Conversion of the second argument of issubdtype from `float` to `np.floating` is deprecated. In future, it will be treated as `np.float64 == np.dtype(float).type`.\n",
            "  from ._conv import register_converters as _register_converters\n",
            "/usr/local/lib/python3.6/dist-packages/h5py/__init__.py:36: FutureWarning: Conversion of the second argument of issubdtype from `float` to `np.floating` is deprecated. In future, it will be treated as `np.float64 == np.dtype(float).type`.\n",
            "  from ._conv import register_converters as _register_converters\n",
            "/usr/local/lib/python3.6/dist-packages/h5py/__init__.py:36: FutureWarning: Conversion of the second argument of issubdtype from `float` to `np.floating` is deprecated. In future, it will be treated as `np.float64 == np.dtype(float).type`.\n",
            "  from ._conv import register_converters as _register_converters\n",
            "/usr/local/lib/python3.6/dist-packages/h5py/__init__.py:36: FutureWarning: Conversion of the second argument of issubdtype from `float` to `np.floating` is deprecated. In future, it will be treated as `np.float64 == np.dtype(float).type`.\n",
            "  from ._conv import register_converters as _register_converters\n",
            "/usr/local/lib/python3.6/dist-packages/h5py/__init__.py:36: FutureWarning: Conversion of the second argument of issubdtype from `float` to `np.floating` is deprecated. In future, it will be treated as `np.float64 == np.dtype(float).type`.\n",
            "  from ._conv import register_converters as _register_converters\n",
            "/usr/local/lib/python3.6/dist-packages/h5py/__init__.py:36: FutureWarning: Conversion of the second argument of issubdtype from `float` to `np.floating` is deprecated. In future, it will be treated as `np.float64 == np.dtype(float).type`.\n",
            "  from ._conv import register_converters as _register_converters\n",
            "/usr/local/lib/python3.6/dist-packages/h5py/__init__.py:36: FutureWarning: Conversion of the second argument of issubdtype from `float` to `np.floating` is deprecated. In future, it will be treated as `np.float64 == np.dtype(float).type`.\n",
            "  from ._conv import register_converters as _register_converters\n",
            "/usr/local/lib/python3.6/dist-packages/h5py/__init__.py:36: FutureWarning: Conversion of the second argument of issubdtype from `float` to `np.floating` is deprecated. In future, it will be treated as `np.float64 == np.dtype(float).type`.\n",
            "  from ._conv import register_converters as _register_converters\n",
            "/usr/local/lib/python3.6/dist-packages/h5py/__init__.py:36: FutureWarning: Conversion of the second argument of issubdtype from `float` to `np.floating` is deprecated. In future, it will be treated as `np.float64 == np.dtype(float).type`.\n",
            "  from ._conv import register_converters as _register_converters\n",
            "/usr/local/lib/python3.6/dist-packages/h5py/__init__.py:36: FutureWarning: Conversion of the second argument of issubdtype from `float` to `np.floating` is deprecated. In future, it will be treated as `np.float64 == np.dtype(float).type`.\n",
            "  from ._conv import register_converters as _register_converters\n",
            "/usr/local/lib/python3.6/dist-packages/h5py/__init__.py:36: FutureWarning: Conversion of the second argument of issubdtype from `float` to `np.floating` is deprecated. In future, it will be treated as `np.float64 == np.dtype(float).type`.\n",
            "  from ._conv import register_converters as _register_converters\n",
            "/usr/local/lib/python3.6/dist-packages/h5py/__init__.py:36: FutureWarning: Conversion of the second argument of issubdtype from `float` to `np.floating` is deprecated. In future, it will be treated as `np.float64 == np.dtype(float).type`.\n",
            "  from ._conv import register_converters as _register_converters\n",
            "/usr/local/lib/python3.6/dist-packages/h5py/__init__.py:36: FutureWarning: Conversion of the second argument of issubdtype from `float` to `np.floating` is deprecated. In future, it will be treated as `np.float64 == np.dtype(float).type`.\n",
            "  from ._conv import register_converters as _register_converters\n",
            "/usr/local/lib/python3.6/dist-packages/h5py/__init__.py:36: FutureWarning: Conversion of the second argument of issubdtype from `float` to `np.floating` is deprecated. In future, it will be treated as `np.float64 == np.dtype(float).type`.\n",
            "  from ._conv import register_converters as _register_converters\n",
            "Using TensorFlow backend.\n",
            "Using TensorFlow backend.\n",
            "Using TensorFlow backend.\n",
            "Using TensorFlow backend.\n",
            "Using TensorFlow backend.\n",
            "Using TensorFlow backend.\n",
            "Using TensorFlow backend.\n",
            "Using TensorFlow backend.\n",
            "Using TensorFlow backend.\n",
            "Using TensorFlow backend.\n",
            "Using TensorFlow backend.\n",
            "Using TensorFlow backend.\n",
            "Using TensorFlow backend.\n",
            "Using TensorFlow backend.\n",
            "Using TensorFlow backend.\n",
            "Using TensorFlow backend.\n",
            "Using TensorFlow backend.\n",
            "assigning the rank and nworkers 17 13\n",
            "assigning the rank and nworkers 17 2\n",
            "assigning the rank and nworkers 17 16\n",
            "assigning the rank and nworkers 17 15\n",
            "assigning the rank and nworkers 17 14\n",
            "assigning the rank and nworkers 17 9\n",
            "assigning the rank and nworkers 17 10\n",
            "assigning the rank and nworkers 17 11\n",
            "assigning the rank and nworkers 17 12\n",
            "assigning the rank and nworkers 17 6\n",
            "assigning the rank and nworkers 17 4\n",
            "assigning the rank and nworkers 17 1\n"
          ],
          "name": "stdout"
        },
        {
          "output_type": "stream",
          "text": [
            "assigning the rank and nworkers 17 0\n",
            "assigning the rank and nworkers 17 3\n",
            "assigning the rank and nworkers 17 5\n",
            "assigning the rank and nworkers 17 7\n",
            "assigning the rank and nworkers 17 8\n",
            "2018-06-20 07:17:05.536365: I tensorflow/stream_executor/cuda/cuda_gpu_executor.cc:897] successful NUMA node read from SysFS had negative value (-1), but there must be at least one NUMA node, so returning NUMA node zero\n",
            "2018-06-20 07:17:05.559672: I tensorflow/core/common_runtime/gpu/gpu_device.cc:1392] Found device 0 with properties: \n",
            "name: Tesla K80 major: 3 minor: 7 memoryClockRate(GHz): 0.8235\n",
            "pciBusID: 0000:00:04.0\n",
            "totalMemory: 11.17GiB freeMemory: 11.06GiB\n",
            "2018-06-20 07:17:05.559727: I tensorflow/core/common_runtime/gpu/gpu_device.cc:1471] Adding visible gpu devices: 0\n",
            "2018-06-20 07:17:05.562628: I tensorflow/stream_executor/cuda/cuda_gpu_executor.cc:897] successful NUMA node read from SysFS had negative value (-1), but there must be at least one NUMA node, so returning NUMA node zero\n",
            "2018-06-20 07:17:05.578767: I tensorflow/stream_executor/cuda/cuda_gpu_executor.cc:897] successful NUMA node read from SysFS had negative value (-1), but there must be at least one NUMA node, so returning NUMA node zero\n",
            "2018-06-20 07:17:05.592658: I tensorflow/core/common_runtime/gpu/gpu_device.cc:1392] Found device 0 with properties: \n",
            "name: Tesla K80 major: 3 minor: 7 memoryClockRate(GHz): 0.8235\n",
            "pciBusID: 0000:00:04.0\n",
            "totalMemory: 11.17GiB freeMemory: 11.00GiB\n",
            "2018-06-20 07:17:05.592717: I tensorflow/core/common_runtime/gpu/gpu_device.cc:1471] Adding visible gpu devices: 0\n",
            "2018-06-20 07:17:05.600836: I tensorflow/stream_executor/cuda/cuda_gpu_executor.cc:897] successful NUMA node read from SysFS had negative value (-1), but there must be at least one NUMA node, so returning NUMA node zero\n",
            "2018-06-20 07:17:05.610885: I tensorflow/core/common_runtime/gpu/gpu_device.cc:1392] Found device 0 with properties: \n",
            "name: Tesla K80 major: 3 minor: 7 memoryClockRate(GHz): 0.8235\n",
            "pciBusID: 0000:00:04.0\n",
            "totalMemory: 11.17GiB freeMemory: 10.95GiB\n",
            "2018-06-20 07:17:05.610937: I tensorflow/core/common_runtime/gpu/gpu_device.cc:1471] Adding visible gpu devices: 0\n",
            "2018-06-20 07:17:05.626245: I tensorflow/stream_executor/cuda/cuda_gpu_executor.cc:897] successful NUMA node read from SysFS had negative value (-1), but there must be at least one NUMA node, so returning NUMA node zero\n",
            "2018-06-20 07:17:05.632451: I tensorflow/core/common_runtime/gpu/gpu_device.cc:1392] Found device 0 with properties: \n",
            "name: Tesla K80 major: 3 minor: 7 memoryClockRate(GHz): 0.8235\n",
            "pciBusID: 0000:00:04.0\n",
            "totalMemory: 11.17GiB freeMemory: 10.89GiB\n",
            "2018-06-20 07:17:05.632566: I tensorflow/core/common_runtime/gpu/gpu_device.cc:1471] Adding visible gpu devices: 0\n",
            "2018-06-20 07:17:05.653975: I tensorflow/core/common_runtime/gpu/gpu_device.cc:1392] Found device 0 with properties: \n",
            "name: Tesla K80 major: 3 minor: 7 memoryClockRate(GHz): 0.8235\n",
            "pciBusID: 0000:00:04.0\n",
            "totalMemory: 11.17GiB freeMemory: 10.84GiB\n",
            "2018-06-20 07:17:05.654015: I tensorflow/core/common_runtime/gpu/gpu_device.cc:1471] Adding visible gpu devices: 0\n",
            "2018-06-20 07:17:05.771771: I tensorflow/stream_executor/cuda/cuda_gpu_executor.cc:897] successful NUMA node read from SysFS had negative value (-1), but there must be at least one NUMA node, so returning NUMA node zero\n",
            "2018-06-20 07:17:05.788609: I tensorflow/core/common_runtime/gpu/gpu_device.cc:1392] Found device 0 with properties: \n",
            "name: Tesla K80 major: 3 minor: 7 memoryClockRate(GHz): 0.8235\n",
            "pciBusID: 0000:00:04.0\n",
            "totalMemory: 11.17GiB freeMemory: 10.76GiB\n",
            "2018-06-20 07:17:05.789361: I tensorflow/core/common_runtime/gpu/gpu_device.cc:1471] Adding visible gpu devices: 0\n",
            "2018-06-20 07:17:05.857942: I tensorflow/stream_executor/cuda/cuda_gpu_executor.cc:897] successful NUMA node read from SysFS had negative value (-1), but there must be at least one NUMA node, so returning NUMA node zero\n",
            "2018-06-20 07:17:05.889051: I tensorflow/core/common_runtime/gpu/gpu_device.cc:1392] Found device 0 with properties: \n",
            "name: Tesla K80 major: 3 minor: 7 memoryClockRate(GHz): 0.8235\n",
            "pciBusID: 0000:00:04.0\n",
            "totalMemory: 11.17GiB freeMemory: 10.70GiB\n",
            "2018-06-20 07:17:05.889099: I tensorflow/core/common_runtime/gpu/gpu_device.cc:1471] Adding visible gpu devices: 0\n",
            "2018-06-20 07:17:06.059101: I tensorflow/stream_executor/cuda/cuda_gpu_executor.cc:897] successful NUMA node read from SysFS had negative value (-1), but there must be at least one NUMA node, so returning NUMA node zero\n",
            "2018-06-20 07:17:06.074798: I tensorflow/stream_executor/cuda/cuda_gpu_executor.cc:897] successful NUMA node read from SysFS had negative value (-1), but there must be at least one NUMA node, so returning NUMA node zero\n",
            "2018-06-20 07:17:06.076156: I tensorflow/core/common_runtime/gpu/gpu_device.cc:1392] Found device 0 with properties: \n",
            "name: Tesla K80 major: 3 minor: 7 memoryClockRate(GHz): 0.8235\n",
            "pciBusID: 0000:00:04.0\n",
            "totalMemory: 11.17GiB freeMemory: 10.57GiB\n",
            "2018-06-20 07:17:06.076280: I tensorflow/core/common_runtime/gpu/gpu_device.cc:1471] Adding visible gpu devices: 0\n",
            "2018-06-20 07:17:06.086823: I tensorflow/core/common_runtime/gpu/gpu_device.cc:1392] Found device 0 with properties: \n",
            "name: Tesla K80 major: 3 minor: 7 memoryClockRate(GHz): 0.8235\n",
            "pciBusID: 0000:00:04.0\n",
            "totalMemory: 11.17GiB freeMemory: 10.57GiB\n",
            "2018-06-20 07:17:06.086956: I tensorflow/core/common_runtime/gpu/gpu_device.cc:1471] Adding visible gpu devices: 0\n",
            "2018-06-20 07:17:06.151494: I tensorflow/stream_executor/cuda/cuda_gpu_executor.cc:897] successful NUMA node read from SysFS had negative value (-1), but there must be at least one NUMA node, so returning NUMA node zero\n",
            "2018-06-20 07:17:06.160698: I tensorflow/stream_executor/cuda/cuda_gpu_executor.cc:897] successful NUMA node read from SysFS had negative value (-1), but there must be at least one NUMA node, so returning NUMA node zero\n",
            "2018-06-20 07:17:06.168849: I tensorflow/core/common_runtime/gpu/gpu_device.cc:1392] Found device 0 with properties: \n",
            "name: Tesla K80 major: 3 minor: 7 memoryClockRate(GHz): 0.8235\n",
            "pciBusID: 0000:00:04.0\n",
            "totalMemory: 11.17GiB freeMemory: 10.44GiB\n",
            "2018-06-20 07:17:06.168909: I tensorflow/core/common_runtime/gpu/gpu_device.cc:1471] Adding visible gpu devices: 0\n",
            "2018-06-20 07:17:06.187760: I tensorflow/stream_executor/cuda/cuda_gpu_executor.cc:897] successful NUMA node read from SysFS had negative value (-1), but there must be at least one NUMA node, so returning NUMA node zero\n",
            "2018-06-20 07:17:06.189648: I tensorflow/core/common_runtime/gpu/gpu_device.cc:1392] Found device 0 with properties: \n",
            "name: Tesla K80 major: 3 minor: 7 memoryClockRate(GHz): 0.8235\n",
            "pciBusID: 0000:00:04.0\n",
            "totalMemory: 11.17GiB freeMemory: 10.39GiB\n",
            "2018-06-20 07:17:06.189717: I tensorflow/core/common_runtime/gpu/gpu_device.cc:1471] Adding visible gpu devices: 0\n",
            "2018-06-20 07:17:06.218015: I tensorflow/core/common_runtime/gpu/gpu_device.cc:1392] Found device 0 with properties: \n",
            "name: Tesla K80 major: 3 minor: 7 memoryClockRate(GHz): 0.8235\n",
            "pciBusID: 0000:00:04.0\n",
            "totalMemory: 11.17GiB freeMemory: 10.38GiB\n",
            "2018-06-20 07:17:06.218082: I tensorflow/core/common_runtime/gpu/gpu_device.cc:1471] Adding visible gpu devices: 0\n",
            "2018-06-20 07:17:06.285091: I tensorflow/stream_executor/cuda/cuda_gpu_executor.cc:897] successful NUMA node read from SysFS had negative value (-1), but there must be at least one NUMA node, so returning NUMA node zero\n",
            "2018-06-20 07:17:06.291333: I tensorflow/core/common_runtime/gpu/gpu_device.cc:1392] Found device 0 with properties: \n",
            "name: Tesla K80 major: 3 minor: 7 memoryClockRate(GHz): 0.8235\n",
            "pciBusID: 0000:00:04.0\n",
            "totalMemory: 11.17GiB freeMemory: 10.26GiB\n",
            "2018-06-20 07:17:06.291377: I tensorflow/core/common_runtime/gpu/gpu_device.cc:1471] Adding visible gpu devices: 0\n",
            "2018-06-20 07:17:06.292766: I tensorflow/stream_executor/cuda/cuda_gpu_executor.cc:897] successful NUMA node read from SysFS had negative value (-1), but there must be at least one NUMA node, so returning NUMA node zero\n",
            "2018-06-20 07:17:06.293551: I tensorflow/core/common_runtime/gpu/gpu_device.cc:1392] Found device 0 with properties: \n",
            "name: Tesla K80 major: 3 minor: 7 memoryClockRate(GHz): 0.8235\n",
            "pciBusID: 0000:00:04.0\n",
            "totalMemory: 11.17GiB freeMemory: 10.25GiB\n",
            "2018-06-20 07:17:06.293662: I tensorflow/core/common_runtime/gpu/gpu_device.cc:1471] Adding visible gpu devices: 0\n",
            "2018-06-20 07:17:06.371425: I tensorflow/stream_executor/cuda/cuda_gpu_executor.cc:897] successful NUMA node read from SysFS had negative value (-1), but there must be at least one NUMA node, so returning NUMA node zero\n",
            "2018-06-20 07:17:06.390167: I tensorflow/stream_executor/cuda/cuda_gpu_executor.cc:897] successful NUMA node read from SysFS had negative value (-1), but there must be at least one NUMA node, so returning NUMA node zero\n",
            "2018-06-20 07:17:06.396897: I tensorflow/stream_executor/cuda/cuda_gpu_executor.cc:897] successful NUMA node read from SysFS had negative value (-1), but there must be at least one NUMA node, so returning NUMA node zero\n",
            "2018-06-20 07:17:06.420270: I tensorflow/core/common_runtime/gpu/gpu_device.cc:1392] Found device 0 with properties: \n",
            "name: Tesla K80 major: 3 minor: 7 memoryClockRate(GHz): 0.8235\n",
            "pciBusID: 0000:00:04.0\n",
            "totalMemory: 11.17GiB freeMemory: 10.08GiB\n",
            "2018-06-20 07:17:06.420319: I tensorflow/core/common_runtime/gpu/gpu_device.cc:1471] Adding visible gpu devices: 0\n",
            "2018-06-20 07:17:06.421047: I tensorflow/core/common_runtime/gpu/gpu_device.cc:1392] Found device 0 with properties: \n",
            "name: Tesla K80 major: 3 minor: 7 memoryClockRate(GHz): 0.8235\n",
            "pciBusID: 0000:00:04.0\n",
            "totalMemory: 11.17GiB freeMemory: 10.08GiB\n",
            "2018-06-20 07:17:06.421083: I tensorflow/core/common_runtime/gpu/gpu_device.cc:1471] Adding visible gpu devices: 0\n",
            "2018-06-20 07:17:06.421910: I tensorflow/core/common_runtime/gpu/gpu_device.cc:1392] Found device 0 with properties: \n",
            "name: Tesla K80 major: 3 minor: 7 memoryClockRate(GHz): 0.8235\n",
            "pciBusID: 0000:00:04.0\n",
            "totalMemory: 11.17GiB freeMemory: 10.07GiB\n",
            "2018-06-20 07:17:06.422024: I tensorflow/core/common_runtime/gpu/gpu_device.cc:1471] Adding visible gpu devices: 0\n",
            "2018-06-20 07:17:09.719252: I tensorflow/core/common_runtime/gpu/gpu_device.cc:952] Device interconnect StreamExecutor with strength 1 edge matrix:\n",
            "2018-06-20 07:17:09.719331: I tensorflow/core/common_runtime/gpu/gpu_device.cc:958]      0 \n",
            "2018-06-20 07:17:09.719351: I tensorflow/core/common_runtime/gpu/gpu_device.cc:971] 0:   N \n",
            "2018-06-20 07:17:09.719665: I tensorflow/core/common_runtime/gpu/gpu_device.cc:1084] Created TensorFlow device (/job:localhost/replica:0/task:0/device:GPU:0 with 9372 MB memory) -> physical GPU (device: 0, name: Tesla K80, pci bus id: 0000:00:04.0, compute capability: 3.7)\n",
            "2018-06-20 07:17:09.849675: I tensorflow/core/common_runtime/gpu/gpu_device.cc:952] Device interconnect StreamExecutor with strength 1 edge matrix:\n",
            "2018-06-20 07:17:09.849741: I tensorflow/core/common_runtime/gpu/gpu_device.cc:958]      0 \n",
            "2018-06-20 07:17:09.849776: I tensorflow/core/common_runtime/gpu/gpu_device.cc:971] 0:   N \n"
          ],
          "name": "stdout"
        },
        {
          "output_type": "stream",
          "text": [
            "2018-06-20 07:17:09.867739: I tensorflow/core/common_runtime/gpu/gpu_device.cc:1084] Created TensorFlow device (/job:localhost/replica:0/task:0/device:GPU:0 with 253 MB memory) -> physical GPU (device: 0, name: Tesla K80, pci bus id: 0000:00:04.0, compute capability: 3.7)\r\n",
            "2018-06-20 07:17:09.886635: I tensorflow/core/common_runtime/gpu/gpu_device.cc:952] Device interconnect StreamExecutor with strength 1 edge matrix:\r\n",
            "2018-06-20 07:17:09.900897: I tensorflow/core/common_runtime/gpu/gpu_device.cc:958]      0 \r\n",
            "2018-06-20 07:17:09.901082: I tensorflow/core/common_runtime/gpu/gpu_device.cc:971] 0:   N \r\n",
            "2018-06-20 07:17:09.901486: I tensorflow/core/common_runtime/gpu/gpu_device.cc:1084] Created TensorFlow device (/job:localhost/replica:0/task:0/device:GPU:0 with 222 MB memory) -> physical GPU (device: 0, name: Tesla K80, pci bus id: 0000:00:04.0, compute capability: 3.7)\n",
            "2018-06-20 07:17:10.109169: E tensorflow/core/common_runtime/direct_session.cc:158] Internal: CUDA runtime implicit initialization on GPU:0 failed. Status: out of memory\n",
            "Traceback (most recent call last):\n",
            "  File \"05_train_controller.py\", line 522, in <module>\n",
            "    main(args)\n",
            "  File \"05_train_controller.py\", line 467, in main\n",
            "    initialize_settings(args.sigma_init, args.sigma_decay, init_opt)\n",
            "  File \"05_train_controller.py\", line 74, in initialize_settings\n",
            "    model = make_model()\n",
            "  File \"/content/WorldModels/model.py\", line 32, in make_model\n",
            "    vae.set_weights('./vae/weights.h5')\n",
            "  File \"/content/WorldModels/vae/arch.py\", line 111, in set_weights\n",
            "    self.model.load_weights(filepath)\n",
            "  File \"/usr/local/lib/python3.6/dist-packages/keras/engine/topology.py\", line 2667, in load_weights\n",
            "    f, self.layers, reshape=reshape)\n",
            "  File \"/usr/local/lib/python3.6/dist-packages/keras/engine/topology.py\", line 3393, in load_weights_from_hdf5_group\n",
            "    K.batch_set_value(weight_value_tuples)\n",
            "  File \"/usr/local/lib/python3.6/dist-packages/keras/backend/tensorflow_backend.py\", line 2377, in batch_set_value\n",
            "    get_session().run(assign_ops, feed_dict=feed_dict)\n",
            "  File \"/usr/local/lib/python3.6/dist-packages/keras/backend/tensorflow_backend.py\", line 180, in get_session\n",
            "    _SESSION = tf.Session(config=config)\n",
            "  File \"/usr/local/lib/python3.6/dist-packages/tensorflow/python/client/session.py\", line 1563, in __init__\n",
            "    super(Session, self).__init__(target, graph, config=config)\n",
            "  File \"/usr/local/lib/python3.6/dist-packages/tensorflow/python/client/session.py\", line 633, in __init__\n",
            "    self._session = tf_session.TF_NewSession(self._graph._c_graph, opts)\n",
            "tensorflow.python.framework.errors_impl.InternalError: Failed to create session.\n",
            "2018-06-20 07:17:10.140168: E tensorflow/core/common_runtime/direct_session.cc:158] Internal: CUDA runtime implicit initialization on GPU:0 failed. Status: out of memory\n",
            "Traceback (most recent call last):\n",
            "  File \"05_train_controller.py\", line 522, in <module>\n",
            "    main(args)\n",
            "  File \"05_train_controller.py\", line 467, in main\n",
            "    initialize_settings(args.sigma_init, args.sigma_decay, init_opt)\n",
            "  File \"05_train_controller.py\", line 74, in initialize_settings\n",
            "    model = make_model()\n",
            "  File \"/content/WorldModels/model.py\", line 32, in make_model\n",
            "    vae.set_weights('./vae/weights.h5')\n",
            "  File \"/content/WorldModels/vae/arch.py\", line 111, in set_weights\n",
            "    self.model.load_weights(filepath)\n",
            "  File \"/usr/local/lib/python3.6/dist-packages/keras/engine/topology.py\", line 2667, in load_weights\n",
            "    f, self.layers, reshape=reshape)\n",
            "  File \"/usr/local/lib/python3.6/dist-packages/keras/engine/topology.py\", line 3393, in load_weights_from_hdf5_group\n",
            "    K.batch_set_value(weight_value_tuples)\n",
            "  File \"/usr/local/lib/python3.6/dist-packages/keras/backend/tensorflow_backend.py\", line 2377, in batch_set_value\n",
            "    get_session().run(assign_ops, feed_dict=feed_dict)\n",
            "  File \"/usr/local/lib/python3.6/dist-packages/keras/backend/tensorflow_backend.py\", line 180, in get_session\n",
            "    _SESSION = tf.Session(config=config)\n",
            "  File \"/usr/local/lib/python3.6/dist-packages/tensorflow/python/client/session.py\", line 1563, in __init__\n",
            "    super(Session, self).__init__(target, graph, config=config)\n",
            "2018-06-20 07:17:10.160152: E tensorflow/core/common_runtime/direct_session.cc:158] Internal: CUDA runtime implicit initialization on GPU:0 failed. Status: out of memory\n",
            "Traceback (most recent call last):\n",
            "  File \"/usr/local/lib/python3.6/dist-packages/tensorflow/python/client/session.py\", line 633, in __init__\n",
            "2018-06-20 07:17:10.172364: E tensorflow/core/common_runtime/direct_session.cc:158] Internal: CUDA runtime implicit initialization on GPU:0 failed. Status: out of memory\n",
            "Traceback (most recent call last):\n",
            "  File \"05_train_controller.py\", line 522, in <module>\n",
            "    main(args)\n",
            "  File \"05_train_controller.py\", line 467, in main\n",
            "    initialize_settings(args.sigma_init, args.sigma_decay, init_opt)\n",
            "  File \"05_train_controller.py\", line 74, in initialize_settings\n",
            "    model = make_model()\n",
            "  File \"/content/WorldModels/model.py\", line 32, in make_model\n",
            "    vae.set_weights('./vae/weights.h5')\n",
            "  File \"/content/WorldModels/vae/arch.py\", line 111, in set_weights\n",
            "    self.model.load_weights(filepath)\n",
            "  File \"/usr/local/lib/python3.6/dist-packages/keras/engine/topology.py\", line 2667, in load_weights\n",
            "    f, self.layers, reshape=reshape)\n",
            "  File \"/usr/local/lib/python3.6/dist-packages/keras/engine/topology.py\", line 3393, in load_weights_from_hdf5_group\n",
            "    K.batch_set_value(weight_value_tuples)\n",
            "  File \"/usr/local/lib/python3.6/dist-packages/keras/backend/tensorflow_backend.py\", line 2377, in batch_set_value\n",
            "    get_session().run(assign_ops, feed_dict=feed_dict)\n",
            "  File \"/usr/local/lib/python3.6/dist-packages/keras/backend/tensorflow_backend.py\", line 180, in get_session\n",
            "    _SESSION = tf.Session(config=config)\n",
            "  File \"/usr/local/lib/python3.6/dist-packages/tensorflow/python/client/session.py\", line 1563, in __init__\n",
            "    super(Session, self).__init__(target, graph, config=config)\n",
            "  File \"/usr/local/lib/python3.6/dist-packages/tensorflow/python/client/session.py\", line 633, in __init__\n",
            "    self._session = tf_session.TF_NewSession(self._graph._c_graph, opts)\n",
            "tensorflow.python.framework.errors_impl.InternalError: Failed to create session.\n",
            "2018-06-20 07:17:10.166154: E tensorflow/core/common_runtime/direct_session.cc:158] Internal: CUDA runtime implicit initialization on GPU:0 failed. Status: out of memory\n",
            "Traceback (most recent call last):\n",
            "  File \"05_train_controller.py\", line 522, in <module>\n",
            "    main(args)\n",
            "  File \"05_train_controller.py\", line 467, in main\n",
            "    initialize_settings(args.sigma_init, args.sigma_decay, init_opt)\n",
            "  File \"05_train_controller.py\", line 74, in initialize_settings\n",
            "    model = make_model()\n",
            "  File \"/content/WorldModels/model.py\", line 32, in make_model\n",
            "    vae.set_weights('./vae/weights.h5')\n",
            "  File \"/content/WorldModels/vae/arch.py\", line 111, in set_weights\n",
            "    self.model.load_weights(filepath)\n",
            "  File \"/usr/local/lib/python3.6/dist-packages/keras/engine/topology.py\", line 2667, in load_weights\n",
            "    f, self.layers, reshape=reshape)\n",
            "  File \"/usr/local/lib/python3.6/dist-packages/keras/engine/topology.py\", line 3393, in load_weights_from_hdf5_group\n",
            "    K.batch_set_value(weight_value_tuples)\n",
            "  File \"/usr/local/lib/python3.6/dist-packages/keras/backend/tensorflow_backend.py\", line 2377, in batch_set_value\n",
            "    get_session().run(assign_ops, feed_dict=feed_dict)\n",
            "  File \"/usr/local/lib/python3.6/dist-packages/keras/backend/tensorflow_backend.py\", line 180, in get_session\n",
            "    _SESSION = tf.Session(config=config)\n",
            "  File \"/usr/local/lib/python3.6/dist-packages/tensorflow/python/client/session.py\", line 1563, in __init__\n",
            "    super(Session, self).__init__(target, graph, config=config)\n",
            "  File \"/usr/local/lib/python3.6/dist-packages/tensorflow/python/client/session.py\", line 633, in __init__\n",
            "    self._session = tf_session.TF_NewSession(self._graph._c_graph, opts)\n",
            "tensorflow.python.framework.errors_impl.InternalError: Failed to create session.\n",
            "  File \"05_train_controller.py\", line 522, in <module>\n",
            "    main(args)\n",
            "  File \"05_train_controller.py\", line 467, in main\n",
            "    initialize_settings(args.sigma_init, args.sigma_decay, init_opt)\n",
            "  File \"05_train_controller.py\", line 74, in initialize_settings\n",
            "    model = make_model()\n",
            "  File \"/content/WorldModels/model.py\", line 32, in make_model\n",
            "    vae.set_weights('./vae/weights.h5')\n",
            "  File \"/content/WorldModels/vae/arch.py\", line 111, in set_weights\n",
            "    self.model.load_weights(filepath)\n",
            "  File \"/usr/local/lib/python3.6/dist-packages/keras/engine/topology.py\", line 2667, in load_weights\n",
            "    f, self.layers, reshape=reshape)\n",
            "    self._session = tf_session.TF_NewSession(self._graph._c_graph, opts)\n",
            "tensorflow.python.framework.errors_impl.InternalError: Failed to create session.\n",
            "2018-06-20 07:17:10.291071: E tensorflow/core/common_runtime/direct_session.cc:158] Internal: CUDA runtime implicit initialization on GPU:0 failed. Status: out of memory\n",
            "Traceback (most recent call last):\n",
            "  File \"05_train_controller.py\", line 522, in <module>\n",
            "2018-06-20 07:17:10.292025: E tensorflow/core/common_runtime/direct_session.cc:158] Internal: CUDA runtime implicit initialization on GPU:0 failed. Status: out of memory\n",
            "2018-06-20 07:17:10.295386: E tensorflow/core/common_runtime/direct_session.cc:158] Internal: CUDA runtime implicit initialization on GPU:0 failed. Status: out of memory\n",
            "  File \"/usr/local/lib/python3.6/dist-packages/keras/engine/topology.py\", line 3393, in load_weights_from_hdf5_group\n",
            "    K.batch_set_value(weight_value_tuples)\n",
            "  File \"/usr/local/lib/python3.6/dist-packages/keras/backend/tensorflow_backend.py\", line 2377, in batch_set_value\n",
            "2018-06-20 07:17:10.314186: E tensorflow/core/common_runtime/direct_session.cc:158] Internal: CUDA runtime implicit initialization on GPU:0 failed. Status: out of memory\n",
            "Traceback (most recent call last):\n",
            "  File \"05_train_controller.py\", line 522, in <module>\n",
            "    main(args)\n",
            "  File \"05_train_controller.py\", line 467, in main\n",
            "    initialize_settings(args.sigma_init, args.sigma_decay, init_opt)\n",
            "  File \"05_train_controller.py\", line 74, in initialize_settings\n",
            "    model = make_model()\n",
            "  File \"/content/WorldModels/model.py\", line 32, in make_model\n",
            "    vae.set_weights('./vae/weights.h5')\n",
            "  File \"/content/WorldModels/vae/arch.py\", line 111, in set_weights\n",
            "    self.model.load_weights(filepath)\n",
            "  File \"/usr/local/lib/python3.6/dist-packages/keras/engine/topology.py\", line 2667, in load_weights\n",
            "    main(args)\n",
            "  File \"05_train_controller.py\", line 467, in main\n",
            "    initialize_settings(args.sigma_init, args.sigma_decay, init_opt)\n",
            "  File \"05_train_controller.py\", line 74, in initialize_settings\n",
            "    model = make_model()\n",
            "  File \"/content/WorldModels/model.py\", line 32, in make_model\n",
            "    vae.set_weights('./vae/weights.h5')\n",
            "  File \"/content/WorldModels/vae/arch.py\", line 111, in set_weights\n",
            "    self.model.load_weights(filepath)\n",
            "  File \"/usr/local/lib/python3.6/dist-packages/keras/engine/topology.py\", line 2667, in load_weights\n",
            "Traceback (most recent call last):\n",
            "  File \"05_train_controller.py\", line 522, in <module>\n",
            "    main(args)\n",
            "  File \"05_train_controller.py\", line 467, in main\n",
            "    initialize_settings(args.sigma_init, args.sigma_decay, init_opt)\n",
            "  File \"05_train_controller.py\", line 74, in initialize_settings\n",
            "    model = make_model()\n",
            "  File \"/content/WorldModels/model.py\", line 32, in make_model\n",
            "    vae.set_weights('./vae/weights.h5')\n",
            "  File \"/content/WorldModels/vae/arch.py\", line 111, in set_weights\n",
            "    self.model.load_weights(filepath)\n",
            "  File \"/usr/local/lib/python3.6/dist-packages/keras/engine/topology.py\", line 2667, in load_weights\n",
            "Traceback (most recent call last):\n",
            "  File \"05_train_controller.py\", line 522, in <module>\n",
            "    main(args)\n",
            "  File \"05_train_controller.py\", line 467, in main\n",
            "    initialize_settings(args.sigma_init, args.sigma_decay, init_opt)\n",
            "  File \"05_train_controller.py\", line 74, in initialize_settings\n",
            "    model = make_model()\n",
            "  File \"/content/WorldModels/model.py\", line 32, in make_model\n",
            "    vae.set_weights('./vae/weights.h5')\n",
            "  File \"/content/WorldModels/vae/arch.py\", line 111, in set_weights\n",
            "    self.model.load_weights(filepath)\n",
            "  File \"/usr/local/lib/python3.6/dist-packages/keras/engine/topology.py\", line 2667, in load_weights\n",
            "    f, self.layers, reshape=reshape)\n",
            "  File \"/usr/local/lib/python3.6/dist-packages/keras/engine/topology.py\", line 3393, in load_weights_from_hdf5_group\n",
            "    get_session().run(assign_ops, feed_dict=feed_dict)\n",
            "  File \"/usr/local/lib/python3.6/dist-packages/keras/backend/tensorflow_backend.py\", line 180, in get_session\n",
            "    _SESSION = tf.Session(config=config)\n",
            "  File \"/usr/local/lib/python3.6/dist-packages/tensorflow/python/client/session.py\", line 1563, in __init__\n",
            "    super(Session, self).__init__(target, graph, config=config)\n",
            "  File \"/usr/local/lib/python3.6/dist-packages/tensorflow/python/client/session.py\", line 633, in __init__\n",
            "    self._session = tf_session.TF_NewSession(self._graph._c_graph, opts)\n",
            "tensorflow.python.framework.errors_impl.InternalError: Failed to create session.\n",
            "    f, self.layers, reshape=reshape)\n",
            "  File \"/usr/local/lib/python3.6/dist-packages/keras/engine/topology.py\", line 3393, in load_weights_from_hdf5_group\n",
            "    f, self.layers, reshape=reshape)\n",
            "  File \"/usr/local/lib/python3.6/dist-packages/keras/engine/topology.py\", line 3393, in load_weights_from_hdf5_group\n",
            "    K.batch_set_value(weight_value_tuples)\n",
            "  File \"/usr/local/lib/python3.6/dist-packages/keras/backend/tensorflow_backend.py\", line 2377, in batch_set_value\n",
            "    f, self.layers, reshape=reshape)\n",
            "  File \"/usr/local/lib/python3.6/dist-packages/keras/engine/topology.py\", line 3393, in load_weights_from_hdf5_group\n",
            "    K.batch_set_value(weight_value_tuples)\n",
            "  File \"/usr/local/lib/python3.6/dist-packages/keras/backend/tensorflow_backend.py\", line 2377, in batch_set_value\n",
            "    K.batch_set_value(weight_value_tuples)\n",
            "  File \"/usr/local/lib/python3.6/dist-packages/keras/backend/tensorflow_backend.py\", line 2377, in batch_set_value\n",
            "    get_session().run(assign_ops, feed_dict=feed_dict)\n",
            "  File \"/usr/local/lib/python3.6/dist-packages/keras/backend/tensorflow_backend.py\", line 180, in get_session\n",
            "    _SESSION = tf.Session(config=config)\n",
            "  File \"/usr/local/lib/python3.6/dist-packages/tensorflow/python/client/session.py\", line 1563, in __init__\n",
            "    K.batch_set_value(weight_value_tuples)\n",
            "  File \"/usr/local/lib/python3.6/dist-packages/keras/backend/tensorflow_backend.py\", line 2377, in batch_set_value\n",
            "    get_session().run(assign_ops, feed_dict=feed_dict)\n",
            "  File \"/usr/local/lib/python3.6/dist-packages/keras/backend/tensorflow_backend.py\", line 180, in get_session\n",
            "    _SESSION = tf.Session(config=config)\n",
            "  File \"/usr/local/lib/python3.6/dist-packages/tensorflow/python/client/session.py\", line 1563, in __init__\n",
            "    super(Session, self).__init__(target, graph, config=config)\n",
            "  File \"/usr/local/lib/python3.6/dist-packages/tensorflow/python/client/session.py\", line 633, in __init__\n",
            "    get_session().run(assign_ops, feed_dict=feed_dict)\n",
            "  File \"/usr/local/lib/python3.6/dist-packages/keras/backend/tensorflow_backend.py\", line 180, in get_session\n",
            "    _SESSION = tf.Session(config=config)\n",
            "  File \"/usr/local/lib/python3.6/dist-packages/tensorflow/python/client/session.py\", line 1563, in __init__\n",
            "    super(Session, self).__init__(target, graph, config=config)\n",
            "  File \"/usr/local/lib/python3.6/dist-packages/tensorflow/python/client/session.py\", line 633, in __init__\n",
            "2018-06-20 07:17:10.389814: E tensorflow/core/common_runtime/direct_session.cc:158] Internal: CUDA runtime implicit initialization on GPU:0 failed. Status: out of memory\n",
            "    self._session = tf_session.TF_NewSession(self._graph._c_graph, opts)\n",
            "tensorflow.python.framework.errors_impl.InternalError: Failed to create session.\n",
            "Traceback (most recent call last):\n",
            "  File \"05_train_controller.py\", line 522, in <module>\n",
            "    main(args)\n",
            "  File \"05_train_controller.py\", line 467, in main\n",
            "    initialize_settings(args.sigma_init, args.sigma_decay, init_opt)\n",
            "  File \"05_train_controller.py\", line 74, in initialize_settings\n",
            "    model = make_model()\n",
            "  File \"/content/WorldModels/model.py\", line 32, in make_model\n",
            "    vae.set_weights('./vae/weights.h5')\n",
            "  File \"/content/WorldModels/vae/arch.py\", line 111, in set_weights\n",
            "    self.model.load_weights(filepath)\n",
            "    get_session().run(assign_ops, feed_dict=feed_dict)\n",
            "  File \"/usr/local/lib/python3.6/dist-packages/keras/backend/tensorflow_backend.py\", line 180, in get_session\n",
            "    _SESSION = tf.Session(config=config)\n",
            "  File \"/usr/local/lib/python3.6/dist-packages/tensorflow/python/client/session.py\", line 1563, in __init__\n",
            "    super(Session, self).__init__(target, graph, config=config)\n",
            "  File \"/usr/local/lib/python3.6/dist-packages/tensorflow/python/client/session.py\", line 633, in __init__\n",
            "    self._session = tf_session.TF_NewSession(self._graph._c_graph, opts)\n",
            "tensorflow.python.framework.errors_impl.InternalError: Failed to create session.\n",
            "2018-06-20 07:17:10.404170: E tensorflow/core/common_runtime/direct_session.cc:158] Internal: CUDA runtime implicit initialization on GPU:0 failed. Status: out of memory\n",
            "Traceback (most recent call last):\n",
            "    super(Session, self).__init__(target, graph, config=config)\n",
            "  File \"/usr/local/lib/python3.6/dist-packages/tensorflow/python/client/session.py\", line 633, in __init__\n",
            "  File \"05_train_controller.py\", line 522, in <module>\n",
            "    self._session = tf_session.TF_NewSession(self._graph._c_graph, opts)\n",
            "tensorflow.python.framework.errors_impl.InternalError: Failed to create session.\n",
            "    main(args)\n",
            "  File \"05_train_controller.py\", line 467, in main\n",
            "    initialize_settings(args.sigma_init, args.sigma_decay, init_opt)\n",
            "  File \"05_train_controller.py\", line 74, in initialize_settings\n",
            "    model = make_model()\n",
            "  File \"/content/WorldModels/model.py\", line 32, in make_model\n",
            "  File \"/usr/local/lib/python3.6/dist-packages/keras/engine/topology.py\", line 2667, in load_weights\n",
            "    f, self.layers, reshape=reshape)\n",
            "  File \"/usr/local/lib/python3.6/dist-packages/keras/engine/topology.py\", line 3393, in load_weights_from_hdf5_group\n",
            "    self._session = tf_session.TF_NewSession(self._graph._c_graph, opts)\n",
            "tensorflow.python.framework.errors_impl.InternalError: Failed to create session.\n",
            "    vae.set_weights('./vae/weights.h5')\n",
            "  File \"/content/WorldModels/vae/arch.py\", line 111, in set_weights\n",
            "    self.model.load_weights(filepath)\n",
            "  File \"/usr/local/lib/python3.6/dist-packages/keras/engine/topology.py\", line 2667, in load_weights\n",
            "    f, self.layers, reshape=reshape)\n",
            "  File \"/usr/local/lib/python3.6/dist-packages/keras/engine/topology.py\", line 3393, in load_weights_from_hdf5_group\n",
            "    K.batch_set_value(weight_value_tuples)\n",
            "  File \"/usr/local/lib/python3.6/dist-packages/keras/backend/tensorflow_backend.py\", line 2377, in batch_set_value\n",
            "    get_session().run(assign_ops, feed_dict=feed_dict)\n",
            "  File \"/usr/local/lib/python3.6/dist-packages/keras/backend/tensorflow_backend.py\", line 180, in get_session\n",
            "    _SESSION = tf.Session(config=config)\n",
            "  File \"/usr/local/lib/python3.6/dist-packages/tensorflow/python/client/session.py\", line 1563, in __init__\n",
            "    super(Session, self).__init__(target, graph, config=config)\n",
            "    K.batch_set_value(weight_value_tuples)\n",
            "  File \"/usr/local/lib/python3.6/dist-packages/keras/backend/tensorflow_backend.py\", line 2377, in batch_set_value\n",
            "  File \"/usr/local/lib/python3.6/dist-packages/tensorflow/python/client/session.py\", line 633, in __init__\n",
            "    self._session = tf_session.TF_NewSession(self._graph._c_graph, opts)\n",
            "tensorflow.python.framework.errors_impl.InternalError: Failed to create session.\n",
            "    get_session().run(assign_ops, feed_dict=feed_dict)\n",
            "  File \"/usr/local/lib/python3.6/dist-packages/keras/backend/tensorflow_backend.py\", line 180, in get_session\n",
            "    _SESSION = tf.Session(config=config)\n",
            "  File \"/usr/local/lib/python3.6/dist-packages/tensorflow/python/client/session.py\", line 1563, in __init__\n",
            "    super(Session, self).__init__(target, graph, config=config)\n",
            "  File \"/usr/local/lib/python3.6/dist-packages/tensorflow/python/client/session.py\", line 633, in __init__\n",
            "    self._session = tf_session.TF_NewSession(self._graph._c_graph, opts)\n",
            "tensorflow.python.framework.errors_impl.InternalError: Failed to create session.\n",
            "2018-06-20 07:17:10.474077: E tensorflow/core/common_runtime/direct_session.cc:158] Internal: CUDA runtime implicit initialization on GPU:0 failed. Status: out of memory\n",
            "Traceback (most recent call last):\n",
            "  File \"05_train_controller.py\", line 522, in <module>\n",
            "    main(args)\n",
            "  File \"05_train_controller.py\", line 467, in main\n",
            "    initialize_settings(args.sigma_init, args.sigma_decay, init_opt)\n",
            "  File \"05_train_controller.py\", line 74, in initialize_settings\n",
            "    model = make_model()\n",
            "  File \"/content/WorldModels/model.py\", line 32, in make_model\n",
            "2018-06-20 07:17:10.482401: E tensorflow/core/common_runtime/direct_session.cc:158] Internal: CUDA runtime implicit initialization on GPU:0 failed. Status: out of memory\n",
            "Traceback (most recent call last):\n",
            "  File \"05_train_controller.py\", line 522, in <module>\n",
            "    main(args)\n",
            "  File \"05_train_controller.py\", line 467, in main\n",
            "    vae.set_weights('./vae/weights.h5')\n",
            "  File \"/content/WorldModels/vae/arch.py\", line 111, in set_weights\n",
            "    self.model.load_weights(filepath)\n",
            "  File \"/usr/local/lib/python3.6/dist-packages/keras/engine/topology.py\", line 2667, in load_weights\n",
            "    f, self.layers, reshape=reshape)\n",
            "  File \"/usr/local/lib/python3.6/dist-packages/keras/engine/topology.py\", line 3393, in load_weights_from_hdf5_group\n",
            "    initialize_settings(args.sigma_init, args.sigma_decay, init_opt)\n",
            "  File \"05_train_controller.py\", line 74, in initialize_settings\n",
            "    model = make_model()\n",
            "  File \"/content/WorldModels/model.py\", line 32, in make_model\n",
            "    vae.set_weights('./vae/weights.h5')\n",
            "  File \"/content/WorldModels/vae/arch.py\", line 111, in set_weights\n",
            "    self.model.load_weights(filepath)\n",
            "  File \"/usr/local/lib/python3.6/dist-packages/keras/engine/topology.py\", line 2667, in load_weights\n",
            "2018-06-20 07:17:10.524242: E tensorflow/core/common_runtime/direct_session.cc:158] Internal: CUDA runtime implicit initialization on GPU:0 failed. Status: out of memory\n",
            "Traceback (most recent call last):\n",
            "  File \"05_train_controller.py\", line 522, in <module>\n",
            "    main(args)\n",
            "  File \"05_train_controller.py\", line 467, in main\n",
            "    f, self.layers, reshape=reshape)\n",
            "  File \"/usr/local/lib/python3.6/dist-packages/keras/engine/topology.py\", line 3393, in load_weights_from_hdf5_group\n",
            "    K.batch_set_value(weight_value_tuples)\n",
            "  File \"/usr/local/lib/python3.6/dist-packages/keras/backend/tensorflow_backend.py\", line 2377, in batch_set_value\n",
            "    get_session().run(assign_ops, feed_dict=feed_dict)\n",
            "  File \"/usr/local/lib/python3.6/dist-packages/keras/backend/tensorflow_backend.py\", line 180, in get_session\n",
            "    _SESSION = tf.Session(config=config)\n",
            "  File \"/usr/local/lib/python3.6/dist-packages/tensorflow/python/client/session.py\", line 1563, in __init__\n",
            "    initialize_settings(args.sigma_init, args.sigma_decay, init_opt)\n",
            "  File \"05_train_controller.py\", line 74, in initialize_settings\n",
            "    model = make_model()\n",
            "  File \"/content/WorldModels/model.py\", line 32, in make_model\n",
            "    vae.set_weights('./vae/weights.h5')\n",
            "  File \"/content/WorldModels/vae/arch.py\", line 111, in set_weights\n",
            "    self.model.load_weights(filepath)\n",
            "  File \"/usr/local/lib/python3.6/dist-packages/keras/engine/topology.py\", line 2667, in load_weights\n",
            "    f, self.layers, reshape=reshape)\n",
            "  File \"/usr/local/lib/python3.6/dist-packages/keras/engine/topology.py\", line 3393, in load_weights_from_hdf5_group\n",
            "    K.batch_set_value(weight_value_tuples)\n",
            "  File \"/usr/local/lib/python3.6/dist-packages/keras/backend/tensorflow_backend.py\", line 2377, in batch_set_value\n",
            "    get_session().run(assign_ops, feed_dict=feed_dict)\n",
            "  File \"/usr/local/lib/python3.6/dist-packages/keras/backend/tensorflow_backend.py\", line 180, in get_session\n",
            "    _SESSION = tf.Session(config=config)\n",
            "  File \"/usr/local/lib/python3.6/dist-packages/tensorflow/python/client/session.py\", line 1563, in __init__\n",
            "    super(Session, self).__init__(target, graph, config=config)\n",
            "  File \"/usr/local/lib/python3.6/dist-packages/tensorflow/python/client/session.py\", line 633, in __init__\n",
            "    self._session = tf_session.TF_NewSession(self._graph._c_graph, opts)\n"
          ],
          "name": "stdout"
        },
        {
          "output_type": "stream",
          "text": [
            "    super(Session, self).__init__(target, graph, config=config)\r\n",
            "  File \"/usr/local/lib/python3.6/dist-packages/tensorflow/python/client/session.py\", line 633, in __init__\r\n",
            "    self._session = tf_session.TF_NewSession(self._graph._c_graph, opts)\r\n",
            "tensorflow.python.framework.errors_impl.InternalError: Failed to create session.\r\n",
            "    K.batch_set_value(weight_value_tuples)\r\n",
            "  File \"/usr/local/lib/python3.6/dist-packages/keras/backend/tensorflow_backend.py\", line 2377, in batch_set_value\r\n",
            "tensorflow.python.framework.errors_impl.InternalError: Failed to create session.\r\n",
            "    get_session().run(assign_ops, feed_dict=feed_dict)\r\n",
            "  File \"/usr/local/lib/python3.6/dist-packages/keras/backend/tensorflow_backend.py\", line 180, in get_session\r\n",
            "    _SESSION = tf.Session(config=config)\r\n",
            "  File \"/usr/local/lib/python3.6/dist-packages/tensorflow/python/client/session.py\", line 1563, in __init__\r\n",
            "    super(Session, self).__init__(target, graph, config=config)\r\n",
            "  File \"/usr/local/lib/python3.6/dist-packages/tensorflow/python/client/session.py\", line 633, in __init__\n",
            "    self._session = tf_session.TF_NewSession(self._graph._c_graph, opts)\n",
            "tensorflow.python.framework.errors_impl.InternalError: Failed to create session.\n",
            "Traceback (most recent call last):\n",
            "  File \"05_train_controller.py\", line 522, in <module>\n",
            "    main(args)\n",
            "  File \"05_train_controller.py\", line 467, in main\n",
            "    initialize_settings(args.sigma_init, args.sigma_decay, init_opt)\n",
            "  File \"05_train_controller.py\", line 104, in initialize_settings\n",
            "    popsize=population)\n",
            "  File \"/content/WorldModels/es.py\", line 99, in __init__\n",
            "    import cma\n",
            "ModuleNotFoundError: No module named 'cma'\n",
            "Traceback (most recent call last):\n",
            "  File \"05_train_controller.py\", line 522, in <module>\n",
            "    main(args)\n",
            "  File \"05_train_controller.py\", line 467, in main\n",
            "    initialize_settings(args.sigma_init, args.sigma_decay, init_opt)\n",
            "  File \"05_train_controller.py\", line 104, in initialize_settings\n",
            "    popsize=population)\n",
            "  File \"/content/WorldModels/es.py\", line 99, in __init__\n",
            "    import cma\n",
            "ModuleNotFoundError: No module named 'cma'\n",
            "Traceback (most recent call last):\n",
            "  File \"05_train_controller.py\", line 522, in <module>\n",
            "    main(args)\n",
            "  File \"05_train_controller.py\", line 467, in main\n",
            "    initialize_settings(args.sigma_init, args.sigma_decay, init_opt)\n",
            "  File \"05_train_controller.py\", line 104, in initialize_settings\n",
            "    popsize=population)\n",
            "  File \"/content/WorldModels/es.py\", line 99, in __init__\n",
            "    import cma\n",
            "ModuleNotFoundError: No module named 'cma'\n",
            "Traceback (most recent call last):\n",
            "  File \"05_train_controller.py\", line 521, in <module>\n",
            "    if \"parent\" == mpi_fork(args.num_worker+1): os.exit()\n",
            "  File \"05_train_controller.py\", line 491, in mpi_fork\n",
            "    subprocess.check_call([\"mpirun\", \"-np\", str(n), sys.executable] +['-u']+ sys.argv, env=env)\n",
            "  File \"/usr/lib/python3.6/subprocess.py\", line 291, in check_call\n",
            "    raise CalledProcessError(retcode, cmd)\n",
            "subprocess.CalledProcessError: Command '['mpirun', '-np', '17', '/usr/bin/python3', '-u', '05_train_controller.py', 'car_racing', '--num_worker', '16', '--num_worker_trial', '4', '--num_episode', '16', '--max_length', '1000', '--eval_steps', '25']' returned non-zero exit status 1.\n"
          ],
          "name": "stdout"
        }
      ]
    },
    {
      "metadata": {
        "id": "Fcy12O0IBK7g",
        "colab_type": "code",
        "colab": {
          "base_uri": "https://localhost:8080/",
          "height": 34
        },
        "outputId": "894e9c9d-8433-4c9b-a2bd-0e1464d39f03"
      },
      "cell_type": "code",
      "source": [
        "!ls data/obs_data_car_racing_9*"
      ],
      "execution_count": 26,
      "outputs": [
        {
          "output_type": "stream",
          "text": [
            "data/obs_data_car_racing_9.npy\r\n"
          ],
          "name": "stdout"
        }
      ]
    }
  ]
}