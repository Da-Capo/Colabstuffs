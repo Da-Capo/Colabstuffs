{
  "nbformat": 4,
  "nbformat_minor": 0,
  "metadata": {
    "colab": {
      "name": "world_model.ipynb",
      "version": "0.3.2",
      "provenance": [],
      "collapsed_sections": [],
      "toc_visible": true,
      "include_colab_link": true
    },
    "kernelspec": {
      "name": "python3",
      "display_name": "Python 3"
    },
    "accelerator": "GPU"
  },
  "cells": [
    {
      "cell_type": "markdown",
      "metadata": {
        "id": "view-in-github",
        "colab_type": "text"
      },
      "source": [
        "[View in Colaboratory](https://colab.research.google.com/github/Da-Capo/Colabstuffs/blob/master/world_model.ipynb)"
      ]
    },
    {
      "metadata": {
        "id": "zaSmlsMATNHy",
        "colab_type": "text"
      },
      "cell_type": "markdown",
      "source": [
        "# GITCODE EXAMPLE"
      ]
    },
    {
      "metadata": {
        "id": "em_Uq7xpGw35",
        "colab_type": "text"
      },
      "cell_type": "markdown",
      "source": [
        "This notebook is about  runing code 'AppliedDataSciencePartners/WorldModels'  in colab"
      ]
    },
    {
      "metadata": {
        "id": "9b-dKXrYyDC0",
        "colab_type": "text"
      },
      "cell_type": "markdown",
      "source": [
        "## create env"
      ]
    },
    {
      "metadata": {
        "id": "x50nPSlETTKU",
        "colab_type": "code",
        "colab": {}
      },
      "cell_type": "code",
      "source": [
        "!git clone https://github.com/AppliedDataSciencePartners/WorldModels.git"
      ],
      "execution_count": 0,
      "outputs": []
    },
    {
      "metadata": {
        "id": "xlmj2qpwVh8V",
        "colab_type": "code",
        "colab": {
          "base_uri": "https://localhost:8080/",
          "height": 34
        },
        "outputId": "f6f80636-df57-4e5c-bbb7-990c5a737615"
      },
      "cell_type": "code",
      "source": [
        "!apt-get install cmake swig python3-dev zlib1g-dev python-opengl mpich xvfb xserver-xephyr vnc4server 2>&1 > /dev/null"
      ],
      "execution_count": 4,
      "outputs": [
        {
          "output_type": "stream",
          "text": [
            "Extracting templates from packages: 100%\n"
          ],
          "name": "stdout"
        }
      ]
    },
    {
      "metadata": {
        "id": "UgBThMAeXLDh",
        "colab_type": "code",
        "colab": {}
      },
      "cell_type": "code",
      "source": [
        "!pip install -r WorldModels/requirements.txt 2>&1 > /dev/null"
      ],
      "execution_count": 0,
      "outputs": []
    },
    {
      "metadata": {
        "id": "hcfnWNJ81R8E",
        "colab_type": "code",
        "colab": {}
      },
      "cell_type": "code",
      "source": [
        "!pip install Box2D box2d-kengz gym mpi4py pympler cma 2>&1 > /dev/null "
      ],
      "execution_count": 0,
      "outputs": []
    },
    {
      "metadata": {
        "id": "KIQJDR0NBjb0",
        "colab_type": "code",
        "colab": {}
      },
      "cell_type": "code",
      "source": [
        "!df -h\n",
        "for d in os.listdir('/content/WorldModels'):\n",
        "    if os.path.isdir(d) and d[0]!=\".\":\n",
        "        open(d+'/__init__.py', 'a').close()\n"
      ],
      "execution_count": 0,
      "outputs": []
    },
    {
      "metadata": {
        "id": "Z-8Cjta_LRZm",
        "colab_type": "code",
        "colab": {
          "base_uri": "https://localhost:8080/",
          "height": 102
        },
        "outputId": "b9fc8e3c-1568-45fd-b1ca-8cc861ae17ba"
      },
      "cell_type": "code",
      "source": [
        "import os\n",
        "os.chdir(\"/content/WorldModels\")\n",
        "!ls"
      ],
      "execution_count": 3,
      "outputs": [
        {
          "output_type": "stream",
          "text": [
            "01_generate_data.py\t config.py    env.py   model.py\t\t vae\r\n",
            "02_train_vae.py\t\t config.pyc   env.pyc  __pycache__\t videos\r\n",
            "03_generate_rnn_data.py  controller   es.py    README.md\r\n",
            "04_train_rnn.py\t\t custom_envs  LICENSE  requirements.txt\r\n",
            "05_train_controller.py\t data\t      log      rnn\r\n"
          ],
          "name": "stdout"
        }
      ]
    },
    {
      "metadata": {
        "id": "XcBqP0QAyIWJ",
        "colab_type": "text"
      },
      "cell_type": "markdown",
      "source": [
        "## pipeline"
      ]
    },
    {
      "metadata": {
        "id": "SzfplvtvKw0K",
        "colab_type": "text"
      },
      "cell_type": "markdown",
      "source": [
        "###  step1: gen vae data"
      ]
    },
    {
      "metadata": {
        "id": "lKtX8-iZYEbM",
        "colab_type": "code",
        "colab": {}
      },
      "cell_type": "code",
      "source": [
        "\n",
        "# !python 01_generate_data.py car_racing --total_episodes 2000 --start_batch 0 --time_steps 300\n",
        "!xvfb-run -a -s \"-screen 0 1400x900x24\" python 01_generate_data.py car_racing --total_episodes 2000 --start_batch 0 --time_steps 300"
      ],
      "execution_count": 0,
      "outputs": []
    },
    {
      "metadata": {
        "id": "1yoq8c4VK4HB",
        "colab_type": "text"
      },
      "cell_type": "markdown",
      "source": [
        "### step2: train_vae"
      ]
    },
    {
      "metadata": {
        "id": "egJ4oB7JtTRW",
        "colab_type": "code",
        "colab": {
          "base_uri": "https://localhost:8080/",
          "height": 1261
        },
        "outputId": "c142375e-e1a7-4c3e-f3d8-d0c9baf72ccf"
      },
      "cell_type": "code",
      "source": [
        "\n",
        "!python 02_train_vae.py --start_batch 0 --max_batch 9 --new_model"
      ],
      "execution_count": 4,
      "outputs": [
        {
          "output_type": "stream",
          "text": [
            "/usr/local/lib/python3.6/dist-packages/h5py/__init__.py:36: FutureWarning: Conversion of the second argument of issubdtype from `float` to `np.floating` is deprecated. In future, it will be treated as `np.float64 == np.dtype(float).type`.\r\n",
            "  from ._conv import register_converters as _register_converters\n",
            "Using TensorFlow backend.\n",
            "Building batch 0...\n",
            "tcmalloc: large alloc 2949120000 bytes == 0x4eb2000 @  0x7f2bfda9b107 0x7f2bfb8b4a41 0x7f2bfb91caa1 0x7f2bfb91d55b 0x7f2bfb9b32da 0x4c4b0b 0x54f3c4 0x551ee0 0x54efc1 0x54f24d 0x551ee0 0x54efc1 0x54f24d 0x553aaf 0x54e4c8 0x54f4f6 0x553aaf 0x54efc1 0x54ff73 0x42b3c9 0x42b5b5 0x44182b 0x421f64 0x7f2bfc8e41c1 0x42201a (nil)\n",
            "Found car_racing...current data size = 200 episodes\n",
            "tcmalloc: large alloc 2949120000 bytes == 0xb4f28000 @  0x7f2bfda9b107 0x7f2bfb8b4a41 0x7f2bfb917bb3 0x7f2bfb91b064 0x7f2bfb91b5a5 0x7f2bfb9b2191 0x4c4b0b 0x54f3c4 0x553aaf 0x54e4c8 0x54f4f6 0x553aaf 0x54efc1 0x54ff73 0x42b3c9 0x42b5b5 0x44182b 0x421f64 0x7f2bfc8e41c1 0x42201a (nil)\n",
            "Train on 48000 samples, validate on 12000 samples\n",
            "Epoch 1/1\n",
            "2018-06-21 02:17:38.877821: I tensorflow/stream_executor/cuda/cuda_gpu_executor.cc:897] successful NUMA node read from SysFS had negative value (-1), but there must be at least one NUMA node, so returning NUMA node zero\n",
            "2018-06-21 02:17:38.878445: I tensorflow/core/common_runtime/gpu/gpu_device.cc:1392] Found device 0 with properties: \n",
            "name: Tesla K80 major: 3 minor: 7 memoryClockRate(GHz): 0.8235\n",
            "pciBusID: 0000:00:04.0\n",
            "totalMemory: 11.17GiB freeMemory: 11.10GiB\n",
            "2018-06-21 02:17:38.878499: I tensorflow/core/common_runtime/gpu/gpu_device.cc:1471] Adding visible gpu devices: 0\n",
            "2018-06-21 02:17:40.818869: I tensorflow/core/common_runtime/gpu/gpu_device.cc:952] Device interconnect StreamExecutor with strength 1 edge matrix:\n",
            "2018-06-21 02:17:40.819023: I tensorflow/core/common_runtime/gpu/gpu_device.cc:958]      0 \n",
            "2018-06-21 02:17:40.819051: I tensorflow/core/common_runtime/gpu/gpu_device.cc:971] 0:   N \n",
            "2018-06-21 02:17:40.822351: I tensorflow/core/common_runtime/gpu/gpu_device.cc:1084] Created TensorFlow device (/job:localhost/replica:0/task:0/device:GPU:0 with 10765 MB memory) -> physical GPU (device: 0, name: Tesla K80, pci bus id: 0000:00:04.0, compute capability: 3.7)\n",
            " 2496/48000 [>.............................] - ETA: 2:05 - loss: 0.2802 - vae_r_loss: 0.2788 - vae_kl_loss: 0.0014"
          ],
          "name": "stdout"
        },
        {
          "output_type": "stream",
          "text": [
            "48000/48000 [==============================] - 46s 968us/step - loss: 0.1426 - vae_r_loss: 0.1302 - vae_kl_loss: 0.0124 - val_loss: 0.1411 - val_vae_r_loss: 0.1126 - val_vae_kl_loss: 0.0285\n",
            "Building batch 1...\n",
            "tcmalloc: large alloc 2949120000 bytes == 0x7f2ac196a000 @  0x7f2bfda9b107 0x7f2bfb8b4a41 0x7f2bfb91caa1 0x7f2bfb91d55b 0x7f2bfb9b32da 0x4c4b0b 0x54f3c4 0x551ee0 0x54efc1 0x54f24d 0x551ee0 0x54efc1 0x54f24d 0x553aaf 0x54e4c8 0x54f4f6 0x553aaf 0x54efc1 0x54ff73 0x42b3c9 0x42b5b5 0x44182b 0x421f64 0x7f2bfc8e41c1 0x42201a (nil)\n",
            "Found car_racing...current data size = 200 episodes\n",
            "tcmalloc: large alloc 2949120000 bytes == 0x4eb2000 @  0x7f2bfda9b107 0x7f2bfb8b4a41 0x7f2bfb917bb3 0x7f2bfb91b064 0x7f2bfb91b5a5 0x7f2bfb9b2191 0x4c4b0b 0x54f3c4 0x553aaf 0x54e4c8 0x54f4f6 0x553aaf 0x54efc1 0x54ff73 0x42b3c9 0x42b5b5 0x44182b 0x421f64 0x7f2bfc8e41c1 0x42201a (nil)\n",
            "Train on 48000 samples, validate on 12000 samples\n",
            "Epoch 1/1\n",
            " 2432/48000 [>.............................] - ETA: 35s - loss: 0.1435 - vae_r_loss: 0.1127 - vae_kl_loss: 0.0308"
          ],
          "name": "stdout"
        },
        {
          "output_type": "stream",
          "text": [
            "48000/48000 [==============================] - 42s 883us/step - loss: 0.1306 - vae_r_loss: 0.1030 - vae_kl_loss: 0.0276 - val_loss: 0.1462 - val_vae_r_loss: 0.1285 - val_vae_kl_loss: 0.0177\n",
            "Building batch 2...\n",
            "tcmalloc: large alloc 2949120000 bytes == 0xb4f28000 @  0x7f2bfda9b107 0x7f2bfb8b4a41 0x7f2bfb91caa1 0x7f2bfb91d55b 0x7f2bfb9b32da 0x4c4b0b 0x54f3c4 0x551ee0 0x54efc1 0x54f24d 0x551ee0 0x54efc1 0x54f24d 0x553aaf 0x54e4c8 0x54f4f6 0x553aaf 0x54efc1 0x54ff73 0x42b3c9 0x42b5b5 0x44182b 0x421f64 0x7f2bfc8e41c1 0x42201a (nil)\n",
            "Found car_racing...current data size = 200 episodes\n",
            "tcmalloc: large alloc 2949120000 bytes == 0x7f2ac196a000 @  0x7f2bfda9b107 0x7f2bfb8b4a41 0x7f2bfb917bb3 0x7f2bfb91b064 0x7f2bfb91b5a5 0x7f2bfb9b2191 0x4c4b0b 0x54f3c4 0x553aaf 0x54e4c8 0x54f4f6 0x553aaf 0x54efc1 0x54ff73 0x42b3c9 0x42b5b5 0x44182b 0x421f64 0x7f2bfc8e41c1 0x42201a (nil)\n",
            "Train on 48000 samples, validate on 12000 samples\n",
            "Epoch 1/1\n",
            " 1984/48000 [>.............................] - ETA: 37s - loss: 0.1210 - vae_r_loss: 0.0967 - vae_kl_loss: 0.0244"
          ],
          "name": "stdout"
        },
        {
          "output_type": "stream",
          "text": [
            "48000/48000 [==============================] - 42s 880us/step - loss: 0.1160 - vae_r_loss: 0.0935 - vae_kl_loss: 0.0225 - val_loss: 0.0988 - val_vae_r_loss: 0.0855 - val_vae_kl_loss: 0.0134\n",
            "Building batch 3...\n",
            "tcmalloc: large alloc 2949120000 bytes == 0x4eb2000 @  0x7f2bfda9b107 0x7f2bfb8b4a41 0x7f2bfb91caa1 0x7f2bfb91d55b 0x7f2bfb9b32da 0x4c4b0b 0x54f3c4 0x551ee0 0x54efc1 0x54f24d 0x551ee0 0x54efc1 0x54f24d 0x553aaf 0x54e4c8 0x54f4f6 0x553aaf 0x54efc1 0x54ff73 0x42b3c9 0x42b5b5 0x44182b 0x421f64 0x7f2bfc8e41c1 0x42201a (nil)\n",
            "Found car_racing...current data size = 200 episodes\n",
            "tcmalloc: large alloc 2949120000 bytes == 0xb4f28000 @  0x7f2bfda9b107 0x7f2bfb8b4a41 0x7f2bfb917bb3 0x7f2bfb91b064 0x7f2bfb91b5a5 0x7f2bfb9b2191 0x4c4b0b 0x54f3c4 0x553aaf 0x54e4c8 0x54f4f6 0x553aaf 0x54efc1 0x54ff73 0x42b3c9 0x42b5b5 0x44182b 0x421f64 0x7f2bfc8e41c1 0x42201a (nil)\n",
            "Train on 48000 samples, validate on 12000 samples\n",
            "Epoch 1/1\n",
            " 1824/48000 [>.............................] - ETA: 40s - loss: 0.1156 - vae_r_loss: 0.0941 - vae_kl_loss: 0.0215"
          ],
          "name": "stdout"
        },
        {
          "output_type": "stream",
          "text": [
            "48000/48000 [==============================] - 42s 873us/step - loss: 0.1136 - vae_r_loss: 0.0921 - vae_kl_loss: 0.0215 - val_loss: 0.0992 - val_vae_r_loss: 0.0780 - val_vae_kl_loss: 0.0212\n",
            "Building batch 4...\n",
            "tcmalloc: large alloc 2949120000 bytes == 0x7f2ac196a000 @  0x7f2bfda9b107 0x7f2bfb8b4a41 0x7f2bfb91caa1 0x7f2bfb91d55b 0x7f2bfb9b32da 0x4c4b0b 0x54f3c4 0x551ee0 0x54efc1 0x54f24d 0x551ee0 0x54efc1 0x54f24d 0x553aaf 0x54e4c8 0x54f4f6 0x553aaf 0x54efc1 0x54ff73 0x42b3c9 0x42b5b5 0x44182b 0x421f64 0x7f2bfc8e41c1 0x42201a (nil)\n",
            "Found car_racing...current data size = 200 episodes\n",
            "Train on 48000 samples, validate on 12000 samples\n",
            "Epoch 1/1\n",
            " 2560/48000 [>.............................] - ETA: 38s - loss: 0.1183 - vae_r_loss: 0.0897 - vae_kl_loss: 0.0286"
          ],
          "name": "stdout"
        },
        {
          "output_type": "stream",
          "text": [
            "48000/48000 [==============================] - 43s 905us/step - loss: 0.1216 - vae_r_loss: 0.0944 - vae_kl_loss: 0.0271 - val_loss: 0.1384 - val_vae_r_loss: 0.1177 - val_vae_kl_loss: 0.0207\n",
            "Building batch 5...\n",
            "Found car_racing...current data size = 200 episodes\n",
            "Train on 48000 samples, validate on 12000 samples\n",
            "Epoch 1/1\n",
            " 4000/48000 [=>............................] - ETA: 36s - loss: 0.1052 - vae_r_loss: 0.0876 - vae_kl_loss: 0.0176"
          ],
          "name": "stdout"
        },
        {
          "output_type": "stream",
          "text": [
            "48000/48000 [==============================] - 43s 899us/step - loss: 0.1026 - vae_r_loss: 0.0870 - vae_kl_loss: 0.0156 - val_loss: 0.1030 - val_vae_r_loss: 0.0893 - val_vae_kl_loss: 0.0138\n",
            "Building batch 6...\n",
            "Found car_racing...current data size = 200 episodes\n",
            "Train on 48000 samples, validate on 12000 samples\n",
            "Epoch 1/1\n",
            " 4704/48000 [=>............................] - ETA: 35s - loss: 0.1257 - vae_r_loss: 0.0974 - vae_kl_loss: 0.0283"
          ],
          "name": "stdout"
        },
        {
          "output_type": "stream",
          "text": [
            "48000/48000 [==============================] - 43s 889us/step - loss: 0.1223 - vae_r_loss: 0.0951 - vae_kl_loss: 0.0271 - val_loss: 0.1069 - val_vae_r_loss: 0.0884 - val_vae_kl_loss: 0.0185\n",
            "Building batch 7...\n",
            "Found car_racing...current data size = 200 episodes\n",
            "Train on 48000 samples, validate on 12000 samples\n",
            "Epoch 1/1\n",
            " 4768/48000 [=>............................] - ETA: 36s - loss: 0.1119 - vae_r_loss: 0.0902 - vae_kl_loss: 0.0216"
          ],
          "name": "stdout"
        },
        {
          "output_type": "stream",
          "text": [
            "48000/48000 [==============================] - 43s 902us/step - loss: 0.1106 - vae_r_loss: 0.0894 - vae_kl_loss: 0.0212 - val_loss: 0.1068 - val_vae_r_loss: 0.0872 - val_vae_kl_loss: 0.0196\n",
            "Building batch 8...\n",
            "Found car_racing...current data size = 200 episodes\n",
            "Train on 48000 samples, validate on 12000 samples\n",
            "Epoch 1/1\n",
            " 4768/48000 [=>............................] - ETA: 36s - loss: 0.1133 - vae_r_loss: 0.0895 - vae_kl_loss: 0.0238"
          ],
          "name": "stdout"
        },
        {
          "output_type": "stream",
          "text": [
            "48000/48000 [==============================] - 43s 886us/step - loss: 0.1136 - vae_r_loss: 0.0907 - vae_kl_loss: 0.0229 - val_loss: 0.1115 - val_vae_r_loss: 0.0863 - val_vae_kl_loss: 0.0251\n",
            "Building batch 9...\n",
            "Found car_racing...current data size = 200 episodes\n",
            "Train on 48000 samples, validate on 12000 samples\n",
            "Epoch 1/1\n",
            " 4736/48000 [=>............................] - ETA: 37s - loss: 0.1254 - vae_r_loss: 0.0965 - vae_kl_loss: 0.0289"
          ],
          "name": "stdout"
        },
        {
          "output_type": "stream",
          "text": [
            "48000/48000 [==============================] - 43s 903us/step - loss: 0.1265 - vae_r_loss: 0.0960 - vae_kl_loss: 0.0305 - val_loss: 0.1130 - val_vae_r_loss: 0.0964 - val_vae_kl_loss: 0.0165\n"
          ],
          "name": "stdout"
        }
      ]
    },
    {
      "metadata": {
        "id": "pJ6S0FRULKy0",
        "colab_type": "text"
      },
      "cell_type": "markdown",
      "source": [
        "### step3: gen rnn data"
      ]
    },
    {
      "metadata": {
        "id": "OHOGrHGWtUEf",
        "colab_type": "code",
        "colab": {
          "base_uri": "https://localhost:8080/",
          "height": 751
        },
        "outputId": "cd72fff9-0e78-459a-a1b7-9fd8d189538f"
      },
      "cell_type": "code",
      "source": [
        "!python 03_generate_rnn_data.py --start_batch 0 --max_batch 9"
      ],
      "execution_count": 5,
      "outputs": [
        {
          "output_type": "stream",
          "text": [
            "/usr/local/lib/python3.6/dist-packages/h5py/__init__.py:36: FutureWarning: Conversion of the second argument of issubdtype from `float` to `np.floating` is deprecated. In future, it will be treated as `np.float64 == np.dtype(float).type`.\r\n",
            "  from ._conv import register_converters as _register_converters\n",
            "Using TensorFlow backend.\n",
            "2018-06-21 02:29:02.595069: I tensorflow/stream_executor/cuda/cuda_gpu_executor.cc:897] successful NUMA node read from SysFS had negative value (-1), but there must be at least one NUMA node, so returning NUMA node zero\n",
            "2018-06-21 02:29:02.595825: I tensorflow/core/common_runtime/gpu/gpu_device.cc:1392] Found device 0 with properties: \n",
            "name: Tesla K80 major: 3 minor: 7 memoryClockRate(GHz): 0.8235\n",
            "pciBusID: 0000:00:04.0\n",
            "totalMemory: 11.17GiB freeMemory: 11.10GiB\n",
            "2018-06-21 02:29:02.595920: I tensorflow/core/common_runtime/gpu/gpu_device.cc:1471] Adding visible gpu devices: 0\n",
            "2018-06-21 02:29:03.023529: I tensorflow/core/common_runtime/gpu/gpu_device.cc:952] Device interconnect StreamExecutor with strength 1 edge matrix:\n",
            "2018-06-21 02:29:03.023610: I tensorflow/core/common_runtime/gpu/gpu_device.cc:958]      0 \n",
            "2018-06-21 02:29:03.023628: I tensorflow/core/common_runtime/gpu/gpu_device.cc:971] 0:   N \n",
            "2018-06-21 02:29:03.023954: I tensorflow/core/common_runtime/gpu/gpu_device.cc:1084] Created TensorFlow device (/job:localhost/replica:0/task:0/device:GPU:0 with 10765 MB memory) -> physical GPU (device: 0, name: Tesla K80, pci bus id: 0000:00:04.0, compute capability: 3.7)\n",
            "Generating batch 0...\n",
            "tcmalloc: large alloc 2949120000 bytes == 0x7f9134820000 @  0x7f925b989107 0x7f92597a2a41 0x7f925980aaa1 0x7f925980b55b 0x7f92598a12da 0x4c4b0b 0x54f3c4 0x551ee0 0x54efc1 0x54f24d 0x551ee0 0x54efc1 0x54f24d 0x553aaf 0x54e4c8 0x54f4f6 0x553aaf 0x54efc1 0x54ff73 0x42b3c9 0x42b5b5 0x44182b 0x421f64 0x7f925a7d21c1 0x42201a (nil)\n",
            "Found car_racing...current data size = 200 episodes\n",
            "Generating batch 1...\n",
            "tcmalloc: large alloc 2949120000 bytes == 0x7f906f0f8000 @  0x7f925b989107 0x7f92597a2a41 0x7f925980aaa1 0x7f925980b55b 0x7f92598a12da 0x4c4b0b 0x54f3c4 0x551ee0 0x54efc1 0x54f24d 0x551ee0 0x54efc1 0x54f24d 0x553aaf 0x54e4c8 0x54f4f6 0x553aaf 0x54efc1 0x54ff73 0x42b3c9 0x42b5b5 0x44182b 0x421f64 0x7f925a7d21c1 0x42201a (nil)\n",
            "Found car_racing...current data size = 200 episodes\n",
            "Generating batch 2...\n",
            "tcmalloc: large alloc 2949120000 bytes == 0x7f8fbec78000 @  0x7f925b989107 0x7f92597a2a41 0x7f925980aaa1 0x7f925980b55b 0x7f92598a12da 0x4c4b0b 0x54f3c4 0x551ee0 0x54efc1 0x54f24d 0x551ee0 0x54efc1 0x54f24d 0x553aaf 0x54e4c8 0x54f4f6 0x553aaf 0x54efc1 0x54ff73 0x42b3c9 0x42b5b5 0x44182b 0x421f64 0x7f925a7d21c1 0x42201a (nil)\n",
            "Found car_racing...current data size = 200 episodes\n",
            "Generating batch 3...\n",
            "tcmalloc: large alloc 2949120000 bytes == 0x7f906f0f8000 @  0x7f925b989107 0x7f92597a2a41 0x7f925980aaa1 0x7f925980b55b 0x7f92598a12da 0x4c4b0b 0x54f3c4 0x551ee0 0x54efc1 0x54f24d 0x551ee0 0x54efc1 0x54f24d 0x553aaf 0x54e4c8 0x54f4f6 0x553aaf 0x54efc1 0x54ff73 0x42b3c9 0x42b5b5 0x44182b 0x421f64 0x7f925a7d21c1 0x42201a (nil)\n",
            "Found car_racing...current data size = 200 episodes\n",
            "Generating batch 4...\n",
            "tcmalloc: large alloc 2949120000 bytes == 0x7f8fbec78000 @  0x7f925b989107 0x7f92597a2a41 0x7f925980aaa1 0x7f925980b55b 0x7f92598a12da 0x4c4b0b 0x54f3c4 0x551ee0 0x54efc1 0x54f24d 0x551ee0 0x54efc1 0x54f24d 0x553aaf 0x54e4c8 0x54f4f6 0x553aaf 0x54efc1 0x54ff73 0x42b3c9 0x42b5b5 0x44182b 0x421f64 0x7f925a7d21c1 0x42201a (nil)\n",
            "Found car_racing...current data size = 200 episodes\n",
            "Generating batch 5...\n",
            "tcmalloc: large alloc 2949120000 bytes == 0x7f906f0f8000 @  0x7f925b989107 0x7f92597a2a41 0x7f925980aaa1 0x7f925980b55b 0x7f92598a12da 0x4c4b0b 0x54f3c4 0x551ee0 0x54efc1 0x54f24d 0x551ee0 0x54efc1 0x54f24d 0x553aaf 0x54e4c8 0x54f4f6 0x553aaf 0x54efc1 0x54ff73 0x42b3c9 0x42b5b5 0x44182b 0x421f64 0x7f925a7d21c1 0x42201a (nil)\n",
            "Found car_racing...current data size = 200 episodes\n",
            "Generating batch 6...\n",
            "tcmalloc: large alloc 2949120000 bytes == 0x7f8fbec78000 @  0x7f925b989107 0x7f92597a2a41 0x7f925980aaa1 0x7f925980b55b 0x7f92598a12da 0x4c4b0b 0x54f3c4 0x551ee0 0x54efc1 0x54f24d 0x551ee0 0x54efc1 0x54f24d 0x553aaf 0x54e4c8 0x54f4f6 0x553aaf 0x54efc1 0x54ff73 0x42b3c9 0x42b5b5 0x44182b 0x421f64 0x7f925a7d21c1 0x42201a (nil)\n",
            "Found car_racing...current data size = 200 episodes\n",
            "Generating batch 7...\n",
            "tcmalloc: large alloc 2949120000 bytes == 0x7f906f0f8000 @  0x7f925b989107 0x7f92597a2a41 0x7f925980aaa1 0x7f925980b55b 0x7f92598a12da 0x4c4b0b 0x54f3c4 0x551ee0 0x54efc1 0x54f24d 0x551ee0 0x54efc1 0x54f24d 0x553aaf 0x54e4c8 0x54f4f6 0x553aaf 0x54efc1 0x54ff73 0x42b3c9 0x42b5b5 0x44182b 0x421f64 0x7f925a7d21c1 0x42201a (nil)\n",
            "Found car_racing...current data size = 200 episodes\n",
            "Generating batch 8...\n",
            "tcmalloc: large alloc 2949120000 bytes == 0x7f8fbec78000 @  0x7f925b989107 0x7f92597a2a41 0x7f925980aaa1 0x7f925980b55b 0x7f92598a12da 0x4c4b0b 0x54f3c4 0x551ee0 0x54efc1 0x54f24d 0x551ee0 0x54efc1 0x54f24d 0x553aaf 0x54e4c8 0x54f4f6 0x553aaf 0x54efc1 0x54ff73 0x42b3c9 0x42b5b5 0x44182b 0x421f64 0x7f925a7d21c1 0x42201a (nil)\n",
            "Found car_racing...current data size = 200 episodes\n",
            "Generating batch 9...\n",
            "Found car_racing...current data size = 200 episodes\n"
          ],
          "name": "stdout"
        }
      ]
    },
    {
      "metadata": {
        "id": "SiDpy5E7LSM4",
        "colab_type": "text"
      },
      "cell_type": "markdown",
      "source": [
        "### step4: train rnn"
      ]
    },
    {
      "metadata": {
        "id": "VadCLhP_tX4x",
        "colab_type": "code",
        "colab": {
          "base_uri": "https://localhost:8080/",
          "height": 870
        },
        "outputId": "2e30344e-3599-4bef-9a6d-bf30aa316905"
      },
      "cell_type": "code",
      "source": [
        "!python 04_train_rnn.py --start_batch 0 --max_batch 9 --new_model"
      ],
      "execution_count": 7,
      "outputs": [
        {
          "output_type": "stream",
          "text": [
            "/usr/local/lib/python3.6/dist-packages/h5py/__init__.py:36: FutureWarning: Conversion of the second argument of issubdtype from `float` to `np.floating` is deprecated. In future, it will be treated as `np.float64 == np.dtype(float).type`.\r\n",
            "  from ._conv import register_converters as _register_converters\n",
            "Using TensorFlow backend.\n",
            "Building batch 0...\n",
            "Building batch 1...\n",
            "Building batch 2...\n",
            "Building batch 3...\n",
            "Building batch 4...\n",
            "Building batch 5...\n",
            "Building batch 6...\n",
            "Building batch 7...\n",
            "Building batch 8...\n",
            "Building batch 9...\n",
            "Train on 1600 samples, validate on 400 samples\n",
            "Epoch 1/20\n",
            "2018-06-21 03:01:53.408522: I tensorflow/stream_executor/cuda/cuda_gpu_executor.cc:897] successful NUMA node read from SysFS had negative value (-1), but there must be at least one NUMA node, so returning NUMA node zero\n",
            "2018-06-21 03:01:53.409122: I tensorflow/core/common_runtime/gpu/gpu_device.cc:1392] Found device 0 with properties: \n",
            "name: Tesla K80 major: 3 minor: 7 memoryClockRate(GHz): 0.8235\n",
            "pciBusID: 0000:00:04.0\n",
            "totalMemory: 11.17GiB freeMemory: 11.10GiB\n",
            "2018-06-21 03:01:53.409184: I tensorflow/core/common_runtime/gpu/gpu_device.cc:1471] Adding visible gpu devices: 0\n",
            "2018-06-21 03:01:53.689386: I tensorflow/core/common_runtime/gpu/gpu_device.cc:952] Device interconnect StreamExecutor with strength 1 edge matrix:\n",
            "2018-06-21 03:01:53.689490: I tensorflow/core/common_runtime/gpu/gpu_device.cc:958]      0 \n",
            "2018-06-21 03:01:53.689519: I tensorflow/core/common_runtime/gpu/gpu_device.cc:971] 0:   N \n",
            "2018-06-21 03:01:53.689945: I tensorflow/core/common_runtime/gpu/gpu_device.cc:1084] Created TensorFlow device (/job:localhost/replica:0/task:0/device:GPU:0 with 10765 MB memory) -> physical GPU (device: 0, name: Tesla K80, pci bus id: 0000:00:04.0, compute capability: 3.7)\n",
            "1504/1600 [===========================>..] - ETA: 2s - loss: 1.4079 - rnn_r_loss: 1.4079 - rnn_kl_loss: 0.0169"
          ],
          "name": "stdout"
        },
        {
          "output_type": "stream",
          "text": [
            "1600/1600 [==============================] - 52s 33ms/step - loss: 1.4077 - rnn_r_loss: 1.4077 - rnn_kl_loss: 0.0169 - val_loss: 1.4057 - val_rnn_r_loss: 1.4057 - val_rnn_kl_loss: 0.0212\n",
            "Epoch 2/20\n",
            "1600/1600 [==============================] - 51s 32ms/step - loss: 1.4038 - rnn_r_loss: 1.4038 - rnn_kl_loss: 0.0175 - val_loss: 1.4059 - val_rnn_r_loss: 1.4059 - val_rnn_kl_loss: 0.0202\n",
            "Epoch 3/20\n",
            "1600/1600 [==============================] - 49s 31ms/step - loss: 1.4028 - rnn_r_loss: 1.4028 - rnn_kl_loss: 0.0182 - val_loss: 1.4019 - val_rnn_r_loss: 1.4019 - val_rnn_kl_loss: 0.0194\n",
            "Epoch 4/20\n",
            "1600/1600 [==============================] - 51s 32ms/step - loss: 1.4023 - rnn_r_loss: 1.4023 - rnn_kl_loss: 0.0188 - val_loss: 1.4037 - val_rnn_r_loss: 1.4037 - val_rnn_kl_loss: 0.0206\n",
            "Epoch 5/20\n",
            " 800/1600 [==============>...............] - ETA: 24s - loss: 1.4026 - rnn_r_loss: 1.4026 - rnn_kl_loss: 0.0185"
          ],
          "name": "stdout"
        },
        {
          "output_type": "stream",
          "text": [
            "1600/1600 [==============================] - 52s 32ms/step - loss: 1.4021 - rnn_r_loss: 1.4021 - rnn_kl_loss: 0.0191 - val_loss: 1.4018 - val_rnn_r_loss: 1.4018 - val_rnn_kl_loss: 0.0208\n",
            "Epoch 6/20\n",
            "1600/1600 [==============================] - 50s 31ms/step - loss: 1.4017 - rnn_r_loss: 1.4017 - rnn_kl_loss: 0.0198 - val_loss: 1.4023 - val_rnn_r_loss: 1.4023 - val_rnn_kl_loss: 0.0199\n",
            "Epoch 7/20\n",
            "1600/1600 [==============================] - 51s 32ms/step - loss: 1.4016 - rnn_r_loss: 1.4016 - rnn_kl_loss: 0.0202 - val_loss: 1.4015 - val_rnn_r_loss: 1.4015 - val_rnn_kl_loss: 0.0222\n",
            "Epoch 8/20\n",
            "1600/1600 [==============================] - 50s 32ms/step - loss: 1.4013 - rnn_r_loss: 1.4013 - rnn_kl_loss: 0.0210 - val_loss: 1.4015 - val_rnn_r_loss: 1.4015 - val_rnn_kl_loss: 0.0221\n",
            "Epoch 9/20\n",
            " 704/1600 [============>.................] - ETA: 25s - loss: 1.4009 - rnn_r_loss: 1.4009 - rnn_kl_loss: 0.0221"
          ],
          "name": "stdout"
        },
        {
          "output_type": "stream",
          "text": [
            "1600/1600 [==============================] - 49s 31ms/step - loss: 1.4011 - rnn_r_loss: 1.4011 - rnn_kl_loss: 0.0219 - val_loss: 1.4023 - val_rnn_r_loss: 1.4023 - val_rnn_kl_loss: 0.0222\n",
            "Epoch 10/20\n",
            "1600/1600 [==============================] - 51s 32ms/step - loss: 1.4010 - rnn_r_loss: 1.4010 - rnn_kl_loss: 0.0227 - val_loss: 1.4031 - val_rnn_r_loss: 1.4031 - val_rnn_kl_loss: 0.0238\n",
            "Epoch 11/20\n",
            "1600/1600 [==============================] - 51s 32ms/step - loss: 1.4008 - rnn_r_loss: 1.4008 - rnn_kl_loss: 0.0238 - val_loss: 1.4020 - val_rnn_r_loss: 1.4020 - val_rnn_kl_loss: 0.0239\n",
            "Epoch 12/20\n",
            "1600/1600 [==============================] - 50s 31ms/step - loss: 1.4006 - rnn_r_loss: 1.4006 - rnn_kl_loss: 0.0249 - val_loss: 1.4016 - val_rnn_r_loss: 1.4016 - val_rnn_kl_loss: 0.0265\n",
            "Epoch 00012: early stopping\n"
          ],
          "name": "stdout"
        }
      ]
    },
    {
      "metadata": {
        "id": "QkxP2UtxLVN6",
        "colab_type": "text"
      },
      "cell_type": "markdown",
      "source": [
        "### step5: train controller"
      ]
    },
    {
      "metadata": {
        "id": "fy4jJeaztj_r",
        "colab_type": "code",
        "colab": {
          "base_uri": "https://localhost:8080/",
          "height": 2519
        },
        "outputId": "0759bd8b-9d28-44c5-ddb3-9b0f2d465581"
      },
      "cell_type": "code",
      "source": [
        "!xvfb-run -a -s \"-screen 0 1400x900x24\" python 05_train_controller.py car_racing --num_worker 16 --num_worker_trial 4 --num_episode 16 --max_length 1000 --eval_steps 25"
      ],
      "execution_count": 0,
      "outputs": [
        {
          "output_type": "stream",
          "text": [
            "/usr/local/lib/python3.6/dist-packages/h5py/__init__.py:36: FutureWarning: Conversion of the second argument of issubdtype from `float` to `np.floating` is deprecated. In future, it will be treated as `np.float64 == np.dtype(float).type`.\r\n",
            "  from ._conv import register_converters as _register_converters\n",
            "Using TensorFlow backend.\n",
            "['mpirun', '-np', '17', '/usr/bin/python3', '05_train_controller.py', 'car_racing', '--num_worker', '16', '--num_worker_trial', '4', '--num_episode', '16', '--max_length', '1000', '--eval_steps', '25']\n",
            "/usr/local/lib/python3.6/dist-packages/h5py/__init__.py:36: FutureWarning: Conversion of the second argument of issubdtype from `float` to `np.floating` is deprecated. In future, it will be treated as `np.float64 == np.dtype(float).type`.\n",
            "  from ._conv import register_converters as _register_converters\n",
            "/usr/local/lib/python3.6/dist-packages/h5py/__init__.py:36: FutureWarning: Conversion of the second argument of issubdtype from `float` to `np.floating` is deprecated. In future, it will be treated as `np.float64 == np.dtype(float).type`.\n",
            "  from ._conv import register_converters as _register_converters\n",
            "/usr/local/lib/python3.6/dist-packages/h5py/__init__.py:36: FutureWarning: Conversion of the second argument of issubdtype from `float` to `np.floating` is deprecated. In future, it will be treated as `np.float64 == np.dtype(float).type`.\n",
            "  from ._conv import register_converters as _register_converters\n",
            "/usr/local/lib/python3.6/dist-packages/h5py/__init__.py:36: FutureWarning: Conversion of the second argument of issubdtype from `float` to `np.floating` is deprecated. In future, it will be treated as `np.float64 == np.dtype(float).type`.\n",
            "  from ._conv import register_converters as _register_converters\n",
            "/usr/local/lib/python3.6/dist-packages/h5py/__init__.py:36: FutureWarning: Conversion of the second argument of issubdtype from `float` to `np.floating` is deprecated. In future, it will be treated as `np.float64 == np.dtype(float).type`.\n",
            "  from ._conv import register_converters as _register_converters\n",
            "/usr/local/lib/python3.6/dist-packages/h5py/__init__.py:36: FutureWarning: Conversion of the second argument of issubdtype from `float` to `np.floating` is deprecated. In future, it will be treated as `np.float64 == np.dtype(float).type`.\n",
            "  from ._conv import register_converters as _register_converters\n",
            "/usr/local/lib/python3.6/dist-packages/h5py/__init__.py:36: FutureWarning: Conversion of the second argument of issubdtype from `float` to `np.floating` is deprecated. In future, it will be treated as `np.float64 == np.dtype(float).type`.\n",
            "  from ._conv import register_converters as _register_converters\n",
            "/usr/local/lib/python3.6/dist-packages/h5py/__init__.py:36: FutureWarning: Conversion of the second argument of issubdtype from `float` to `np.floating` is deprecated. In future, it will be treated as `np.float64 == np.dtype(float).type`.\n",
            "  from ._conv import register_converters as _register_converters\n",
            "/usr/local/lib/python3.6/dist-packages/h5py/__init__.py:36: FutureWarning: Conversion of the second argument of issubdtype from `float` to `np.floating` is deprecated. In future, it will be treated as `np.float64 == np.dtype(float).type`.\n",
            "  from ._conv import register_converters as _register_converters\n",
            "/usr/local/lib/python3.6/dist-packages/h5py/__init__.py:36: FutureWarning: Conversion of the second argument of issubdtype from `float` to `np.floating` is deprecated. In future, it will be treated as `np.float64 == np.dtype(float).type`.\n",
            "  from ._conv import register_converters as _register_converters\n",
            "/usr/local/lib/python3.6/dist-packages/h5py/__init__.py:36: FutureWarning: Conversion of the second argument of issubdtype from `float` to `np.floating` is deprecated. In future, it will be treated as `np.float64 == np.dtype(float).type`.\n",
            "  from ._conv import register_converters as _register_converters\n",
            "/usr/local/lib/python3.6/dist-packages/h5py/__init__.py:36: FutureWarning: Conversion of the second argument of issubdtype from `float` to `np.floating` is deprecated. In future, it will be treated as `np.float64 == np.dtype(float).type`.\n",
            "  from ._conv import register_converters as _register_converters\n",
            "/usr/local/lib/python3.6/dist-packages/h5py/__init__.py:36: FutureWarning: Conversion of the second argument of issubdtype from `float` to `np.floating` is deprecated. In future, it will be treated as `np.float64 == np.dtype(float).type`.\n",
            "  from ._conv import register_converters as _register_converters\n",
            "/usr/local/lib/python3.6/dist-packages/h5py/__init__.py:36: FutureWarning: Conversion of the second argument of issubdtype from `float` to `np.floating` is deprecated. In future, it will be treated as `np.float64 == np.dtype(float).type`.\n",
            "  from ._conv import register_converters as _register_converters\n",
            "/usr/local/lib/python3.6/dist-packages/h5py/__init__.py:36: FutureWarning: Conversion of the second argument of issubdtype from `float` to `np.floating` is deprecated. In future, it will be treated as `np.float64 == np.dtype(float).type`.\n",
            "  from ._conv import register_converters as _register_converters\n",
            "/usr/local/lib/python3.6/dist-packages/h5py/__init__.py:36: FutureWarning: Conversion of the second argument of issubdtype from `float` to `np.floating` is deprecated. In future, it will be treated as `np.float64 == np.dtype(float).type`.\n",
            "  from ._conv import register_converters as _register_converters\n",
            "/usr/local/lib/python3.6/dist-packages/h5py/__init__.py:36: FutureWarning: Conversion of the second argument of issubdtype from `float` to `np.floating` is deprecated. In future, it will be treated as `np.float64 == np.dtype(float).type`.\n",
            "  from ._conv import register_converters as _register_converters\n",
            "Using TensorFlow backend.\n",
            "Using TensorFlow backend.\n",
            "Using TensorFlow backend.\n",
            "Using TensorFlow backend.\n",
            "Using TensorFlow backend.\n",
            "Using TensorFlow backend.\n",
            "Using TensorFlow backend.\n",
            "Using TensorFlow backend.\n",
            "Using TensorFlow backend.\n",
            "Using TensorFlow backend.\n",
            "Using TensorFlow backend.\n",
            "Using TensorFlow backend.\n",
            "Using TensorFlow backend.\n",
            "Using TensorFlow backend.\n",
            "Using TensorFlow backend.\n",
            "Using TensorFlow backend.\n",
            "Using TensorFlow backend.\n",
            "assigning the rank and nworkers 17 10\n",
            "assigning the rank and nworkers 17 3\n",
            "assigning the rank and nworkers 17 1\n",
            "assigning the rank and nworkers 17 12\n"
          ],
          "name": "stdout"
        },
        {
          "output_type": "stream",
          "text": [
            "assigning the rank and nworkers 17 2\n",
            "assigning the rank and nworkers 17 11\n",
            "assigning the rank and nworkers 17 4\n",
            "assigning the rank and nworkers 17 16\n",
            "assigning the rank and nworkers 17 8\n",
            "assigning the rank and nworkers 17 13\n",
            "assigning the rank and nworkers 17 5\n",
            "assigning the rank and nworkers 17 7\n",
            "assigning the rank and nworkers 17 6\n",
            "assigning the rank and nworkers 17 0\n",
            "assigning the rank and nworkers 17 9\n",
            "assigning the rank and nworkers 17 15\n",
            "assigning the rank and nworkers 17 14\n",
            "2018-06-21 06:36:05.934803: I tensorflow/core/platform/cpu_feature_guard.cc:140] Your CPU supports instructions that this TensorFlow binary was not compiled to use: AVX2 FMA\n",
            "2018-06-21 06:36:05.999161: I tensorflow/core/platform/cpu_feature_guard.cc:140] Your CPU supports instructions that this TensorFlow binary was not compiled to use: AVX2 FMA\n",
            "2018-06-21 06:36:06.017775: I tensorflow/core/platform/cpu_feature_guard.cc:140] Your CPU supports instructions that this TensorFlow binary was not compiled to use: AVX2 FMA\n",
            "2018-06-21 06:36:06.033015: I tensorflow/core/platform/cpu_feature_guard.cc:140] Your CPU supports instructions that this TensorFlow binary was not compiled to use: AVX2 FMA\n",
            "2018-06-21 06:36:06.408929: I tensorflow/core/platform/cpu_feature_guard.cc:140] Your CPU supports instructions that this TensorFlow binary was not compiled to use: AVX2 FMA\n",
            "2018-06-21 06:36:06.487529: I tensorflow/core/platform/cpu_feature_guard.cc:140] Your CPU supports instructions that this TensorFlow binary was not compiled to use: AVX2 FMA\n",
            "2018-06-21 06:36:06.584443: I tensorflow/core/platform/cpu_feature_guard.cc:140] Your CPU supports instructions that this TensorFlow binary was not compiled to use: AVX2 FMA\n",
            "2018-06-21 06:36:06.726987: I tensorflow/core/platform/cpu_feature_guard.cc:140] Your CPU supports instructions that this TensorFlow binary was not compiled to use: AVX2 FMA\n",
            "2018-06-21 06:36:06.933958: I tensorflow/core/platform/cpu_feature_guard.cc:140] Your CPU supports instructions that this TensorFlow binary was not compiled to use: AVX2 FMA\n",
            "2018-06-21 06:36:07.041398: I tensorflow/core/platform/cpu_feature_guard.cc:140] Your CPU supports instructions that this TensorFlow binary was not compiled to use: AVX2 FMA\n",
            "2018-06-21 06:36:07.128851: I tensorflow/core/platform/cpu_feature_guard.cc:140] Your CPU supports instructions that this TensorFlow binary was not compiled to use: AVX2 FMA\n",
            "2018-06-21 06:36:07.197136: I tensorflow/core/platform/cpu_feature_guard.cc:140] Your CPU supports instructions that this TensorFlow binary was not compiled to use: AVX2 FMA\n",
            "2018-06-21 06:36:07.330710: I tensorflow/core/platform/cpu_feature_guard.cc:140] Your CPU supports instructions that this TensorFlow binary was not compiled to use: AVX2 FMA\n",
            "2018-06-21 06:36:07.366491: I tensorflow/core/platform/cpu_feature_guard.cc:140] Your CPU supports instructions that this TensorFlow binary was not compiled to use: AVX2 FMA\n",
            "2018-06-21 06:36:07.469390: I tensorflow/core/platform/cpu_feature_guard.cc:140] Your CPU supports instructions that this TensorFlow binary was not compiled to use: AVX2 FMA\n",
            "2018-06-21 06:36:07.539462: I tensorflow/core/platform/cpu_feature_guard.cc:140] Your CPU supports instructions that this TensorFlow binary was not compiled to use: AVX2 FMA\n",
            "2018-06-21 06:36:07.765342: I tensorflow/core/platform/cpu_feature_guard.cc:140] Your CPU supports instructions that this TensorFlow binary was not compiled to use: AVX2 FMA\n",
            "(32_w,64)-aCMA-ES (mu_w=17.6,w_1=11%) in dimension 867 (seed=693525, Thu Jun 21 06:36:16 2018)\n",
            "('process', 10, 'out of total ', 17, 'started')\n",
            "(32_w,64)-aCMA-ES (mu_w=17.6,w_1=11%) in dimension 867 (seed=670378, Thu Jun 21 06:36:17 2018)\n",
            "('process', 1, 'out of total ', 17, 'started')\n",
            "(32_w,64)-aCMA-ES (mu_w=17.6,w_1=11%) in dimension 867 (seed=623387, Thu Jun 21 06:36:17 2018)\n",
            "('process', 3, 'out of total ', 17, 'started')\n",
            "(32_w,64)-aCMA-ES (mu_w=17.6,w_1=11%) in dimension 867 (seed=664985, Thu Jun 21 06:36:17 2018)\n",
            "('process', 12, 'out of total ', 17, 'started')\n",
            "(32_w,64)-aCMA-ES (mu_w=17.6,w_1=11%) in dimension 867 (seed=707988, Thu Jun 21 06:36:17 2018)\n",
            "('process', 4, 'out of total ', 17, 'started')\n",
            "(32_w,64)-aCMA-ES (mu_w=17.6,w_1=11%) in dimension 867 (seed=662488, Thu Jun 21 06:36:17 2018)\n",
            "('process', 11, 'out of total ', 17, 'started')\n",
            "(32_w,64)-aCMA-ES (mu_w=17.6,w_1=11%) in dimension 867 (seed=636257, Thu Jun 21 06:36:17 2018)\n",
            "('process', 16, 'out of total ', 17, 'started')\n",
            "(32_w,64)-aCMA-ES (mu_w=17.6,w_1=11%) in dimension 867 (seed=653794, Thu Jun 21 06:36:17 2018)\n",
            "('process', 2, 'out of total ', 17, 'started')\n",
            "(32_w,64)-aCMA-ES (mu_w=17.6,w_1=11%) in dimension 867 (seed=646802, Thu Jun 21 06:36:18 2018)\n",
            "('process', 5, 'out of total ', 17, 'started')\n",
            "(32_w,64)-aCMA-ES (mu_w=17.6,w_1=11%) in dimension 867 (seed=638867, Thu Jun 21 06:36:18 2018)\n",
            "('process', 7, 'out of total ', 17, 'started')\n",
            "(32_w,64)-aCMA-ES (mu_w=17.6,w_1=11%) in dimension 867 (seed=692738, Thu Jun 21 06:36:18 2018)\n",
            "('process', 8, 'out of total ', 17, 'started')\n",
            "(32_w,64)-aCMA-ES (mu_w=17.6,w_1=11%) in dimension 867 (seed=735731, Thu Jun 21 06:36:18 2018)\n",
            "('process', 9, 'out of total ', 17, 'started')\n",
            "(32_w,64)-aCMA-ES (mu_w=17.6,w_1=11%) in dimension 867 (seed=648590, Thu Jun 21 06:36:18 2018)\n",
            "('process', 0, 'out of total ', 17, 'started')\n",
            "('training', 'car_racing')\n",
            "('population', 64)\n",
            "('num_worker', 16)\n",
            "('num_worker_trial', 4)\n",
            "('num_episode', 16)\n",
            "('max_length', 1000)\n",
            "\u001b[33mWARN: gym.spaces.Box autodetected dtype as <class 'numpy.float32'>. Please provide explicit dtype.\u001b[0m\n",
            "(32_w,64)-aCMA-ES (mu_w=17.6,w_1=11%) in dimension 867 (seed=644861, Thu Jun 21 06:36:18 2018)\n",
            "('process', 6, 'out of total ', 17, 'started')\n",
            "(32_w,64)-aCMA-ES (mu_w=17.6,w_1=11%) in dimension 867 (seed=636838, Thu Jun 21 06:36:18 2018)\n",
            "('process', 13, 'out of total ', 17, 'started')\n",
            "(32_w,64)-aCMA-ES (mu_w=17.6,w_1=11%) in dimension 867 (seed=629823, Thu Jun 21 06:36:18 2018)\n",
            "('process', 15, 'out of total ', 17, 'started')\n",
            "(32_w,64)-aCMA-ES (mu_w=17.6,w_1=11%) in dimension 867 (seed=660051, Thu Jun 21 06:36:18 2018)\n",
            "('process', 14, 'out of total ', 17, 'started')\n"
          ],
          "name": "stdout"
        },
        {
          "output_type": "stream",
          "text": [
            "\u001b[33mWARN: gym.spaces.Box autodetected dtype as <class 'numpy.float32'>. Please provide explicit dtype.\u001b[0m\n",
            "\u001b[33mWARN: gym.spaces.Box autodetected dtype as <class 'numpy.float32'>. Please provide explicit dtype.\u001b[0m\n",
            "\u001b[33mWARN: gym.spaces.Box autodetected dtype as <class 'numpy.float32'>. Please provide explicit dtype.\u001b[0m\n",
            "\u001b[33mWARN: gym.spaces.Box autodetected dtype as <class 'numpy.float32'>. Please provide explicit dtype.\u001b[0m\n",
            "\u001b[33mWARN: gym.spaces.Box autodetected dtype as <class 'numpy.float32'>. Please provide explicit dtype.\u001b[0m\n",
            "\u001b[33mWARN: gym.spaces.Box autodetected dtype as <class 'numpy.float32'>. Please provide explicit dtype.\u001b[0m\n",
            "\u001b[33mWARN: gym.spaces.Box autodetected dtype as <class 'numpy.float32'>. Please provide explicit dtype.\u001b[0m\n",
            "\u001b[33mWARN: gym.spaces.Box autodetected dtype as <class 'numpy.float32'>. Please provide explicit dtype.\u001b[0m\n",
            "\u001b[33mWARN: gym.spaces.Box autodetected dtype as <class 'numpy.float32'>. Please provide explicit dtype.\u001b[0m\n",
            "\u001b[33mWARN: gym.spaces.Box autodetected dtype as <class 'numpy.float32'>. Please provide explicit dtype.\u001b[0m\n",
            "\u001b[33mWARN: gym.spaces.Box autodetected dtype as <class 'numpy.float32'>. Please provide explicit dtype.\u001b[0m\n",
            "\u001b[33mWARN: gym.spaces.Box autodetected dtype as <class 'numpy.float32'>. Please provide explicit dtype.\u001b[0m\n",
            "\u001b[33mWARN: gym.spaces.Box autodetected dtype as <class 'numpy.float32'>. Please provide explicit dtype.\u001b[0m\n",
            "\u001b[33mWARN: gym.spaces.Box autodetected dtype as <class 'numpy.float32'>. Please provide explicit dtype.\u001b[0m\n",
            "\u001b[33mWARN: gym.spaces.Box autodetected dtype as <class 'numpy.float32'>. Please provide explicit dtype.\u001b[0m\n",
            "\u001b[33mWARN: gym.spaces.Box autodetected dtype as <class 'numpy.float32'>. Please provide explicit dtype.\u001b[0m\n"
          ],
          "name": "stdout"
        }
      ]
    },
    {
      "metadata": {
        "id": "Q3zpHQHfLamY",
        "colab_type": "text"
      },
      "cell_type": "markdown",
      "source": [
        "## backup models"
      ]
    },
    {
      "metadata": {
        "id": "6mGGvW6wMONg",
        "colab_type": "text"
      },
      "cell_type": "markdown",
      "source": [
        "You can mount your google drive to colab to save the model "
      ]
    },
    {
      "metadata": {
        "id": "tZ6_i-3MdGaw",
        "colab_type": "code",
        "colab": {}
      },
      "cell_type": "code",
      "source": [
        "!cp /content/WorldModels/vae/weights.h5 /content/drive/WorldModels/vae/weights.h5\n",
        "!cp /content/WorldModels/rnn/weights.h5 /content/drive/WorldModels/rnn/weights.h5"
      ],
      "execution_count": 0,
      "outputs": []
    },
    {
      "metadata": {
        "id": "Fcy12O0IBK7g",
        "colab_type": "code",
        "colab": {}
      },
      "cell_type": "code",
      "source": [
        "!ls WorldModels/data"
      ],
      "execution_count": 0,
      "outputs": []
    }
  ]
}